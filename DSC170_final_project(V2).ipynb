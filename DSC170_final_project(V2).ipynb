{
 "cells": [
  {
   "cell_type": "markdown",
   "id": "e3271e3d",
   "metadata": {},
   "source": [
    "### Table of Contents\n",
    "To return to the table of contents, click on the number at any major section heading."
   ]
  },
  {
   "cell_type": "markdown",
   "id": "2adaa244",
   "metadata": {},
   "source": [
    "[1. Project Title](#1.-Project-Title)\n",
    "\n",
    "[2. Team members](#2.-Team-members)\n",
    "\n",
    "[3. Question(s) you addressed, why it is important](#3.-Question(s)-you-addressed,-why-it-is-important)\n",
    "\n",
    "[4. Background and literature](#4.-Background-and-literature)\n",
    "\n",
    "[5. Python packages you used and why](#5.-Python-packages-you-used-and-why)\n",
    "\n",
    "[6. Data sources](#6.-Data-sources)\n",
    "\n",
    "[7. Data cleaning you have done](#7.-Data-cleaning-you-have-done)\n",
    "\n",
    "[8. Descriptive statistics for the data](#8.-Descriptive-statistics-for-the-data)\n",
    "\n",
    "[9. Analysis](#9.-Analysis)\n",
    "\n",
    "[10. Summary of products and results](#10.-Summary-of-products-and-results)\n",
    "\n",
    "[11. Discussion](#11.-Discussion)\n",
    "\n",
    "[12. Conclusions and future work](#12.-Conclusions-and-future-work)"
   ]
  },
  {
   "cell_type": "markdown",
   "id": "9e7f6569",
   "metadata": {},
   "source": [
    "### [1.](#Table-of-Contents) Project Title"
   ]
  },
  {
   "cell_type": "markdown",
   "id": "839f5f52",
   "metadata": {},
   "source": [
    "Exploring the Impact of Computer Ownership on Unemployment in San Diego, CA"
   ]
  },
  {
   "cell_type": "markdown",
   "id": "c1a64b39",
   "metadata": {},
   "source": [
    "### [2.](#Table-of-Contents) Team members"
   ]
  },
  {
   "cell_type": "markdown",
   "id": "9043f3b0",
   "metadata": {},
   "source": [
    "By: Michael Garcia-Perez (A16366187) & Haoyu Fu (A16633278)"
   ]
  },
  {
   "cell_type": "markdown",
   "id": "a7a544f9",
   "metadata": {},
   "source": [
    "### [3.](#Table-of-Contents) Question(s) you addressed, why it is important"
   ]
  },
  {
   "cell_type": "markdown",
   "id": "c4bb32a1",
   "metadata": {},
   "source": [
    "We aim to delve deeper into the relationship between computer ownership and unemployment in San Diego, California, while also considering additional factors if time allows. The primary audience for our research includes political officials and policymakers in San Diego. This focus is particularly relevant because if a significant relationship exists between computer ownership and unemployment, it suggests that enhancing citizens' access to such equipment could contribute to boosting the employment rate.\n",
    "\n",
    "San Diego, CA, is a thriving city; however, homelessness has become a growing concern among residents, evident in headlines such as \"Downtown San Diego homeless population reaches record high for the sixth month in a row\" (Warth, LA Times). Homelessness stems from various causes, including a lack of affordable housing, poverty, and unemployment. Despite common misconceptions associating homelessness with mental health issues, a comprehensive survey revealed that poverty is the primary culprit (The Coronado Times). The cost of living in San Diego is a driving factor, but so is \"inadequate employment,\" such as the \"inability to find gainful employment...\" (The Coronado Times). Hence, homelessness can be linked to unemployment, prompting us to explore additional relationships, including those involving computer ownership.\n",
    "\n",
    "We believe that computer ownership could significantly impact unemployment in San Diego. Initially unaware of the issue's significance, we were surprised to discover a dataset on computer ownership before starting our research. Our analysis also aims to uncover information related to the number of broadband providers per San Diego census tract, Federal Broadband Threshold compliance, income, ethnic populations, and more, if time permits, utilizing broadband data from SANDAG and visualizing through San Diego census tracts.\n",
    "\n",
    "Our expectations include identifying a strong relationship between computer ownership and unemployment rates in different San Diego census tracts. We anticipate that individuals without access to computers may face challenges in job applications, potentially leading to higher unemployment rates. Ultimately, we hope our findings offer a new perspective on the factors influencing unemployment in certain San Diego areas and provide insights for policymakers on utilizing tax money to fund initiatives promoting increased computer ownership, should it prove to positively impact the employment rate."
   ]
  },
  {
   "cell_type": "markdown",
   "id": "5a652f94",
   "metadata": {},
   "source": [
    "### [4.](#Table-of-Contents) Background and literature"
   ]
  },
  {
   "cell_type": "markdown",
   "id": "3dd1be4c",
   "metadata": {},
   "source": [
    "1. https://www.utwente.nl/en/bms/vandijk/publications/digital_divide_impact_access.pdf\n",
    "2. https://www.sciencedirect.com/science/article/pii/S0040162521007903?casa_token=8X2wFMUI1bsAAAAA:bgo7kmgL2LXDxj0fmjMEv0ZoSaLLMTQuY3WEPV1n9nHhRgdTpY7_0tUvDW77bmxlYUH9CtIP1w\n",
    "3. https://files.eric.ed.gov/fulltext/ED463391.pdf\n",
    "4. https://www.sciencedirect.com/science/article/pii/S026427512031252X?casa_token=_jvi54cy2FcAAAAA:Cmou9AI7qMpBBHCH1bAjAVWWQFe5QBN-sZGBU9tvg8mD8uGtYDfPflMQ6ILBVFjODOT8IW-PFA\n",
    "\n",
    "These references play a crucial role in providing essential background literature necessary for comprehending our topic, which involves investigating the influence of computer ownership on unemployment in San Diego. The articles explore subjects such as the digital divide and broadband access. The digital divide represents an inequality where more privileged individuals have access to digital resources like the internet, along with the skills and hardware necessary for utilizing these resources, such as laptops or phones. This reference has been instrumental in refining our focus, especially since we concentrate on computer ownership and its impact on unemployment.\n",
    "\n",
    "As highlighted in these articles, the digital divide significantly affects employment. Without computers or internet access, the process of applying for jobs or acquiring new skills becomes exceedingly challenging. Employment relies heavily on these resources, as job seekers need to submit applications, connect with recruiters, participate in interviews, respond to crucial emails, learn about job positions, and more. While libraries can help mitigate the impact of the digital divide, managing these tasks is still more challenging compared to having access to a computer and reliable internet at home. Finding a job is inherently challenging due to the competitive job market and economy, but the digital divide has evidently exacerbated these difficulties, as outlined in these articles.\n",
    "\n",
    "Another pivotal aspect from these articles that significantly influences our research is understanding broadband access. Broadband, as described in the aforementioned articles, determines your access to reliable internet. To achieve high-speed internet connections, your broadband access must facilitate the transmission of large amounts of data at fast speeds, ultimately affecting your ability to use your laptop for job searching and employment-related activities. We assert that computer ownership and broadband access are interconnected, as a computer without internet access is not useful for employment-seeking purposes. Furthermore, different census tracts in San Diego exhibit varying qualities and speeds of broadband internet, leading us to narrow our focus on a specific hypothesis. We aim to explore how these variations impact different tracts in San Diego and their effects on unemployment."
   ]
  },
  {
   "cell_type": "markdown",
   "id": "979139dd",
   "metadata": {},
   "source": [
    "### [5.](#Table-of-Contents) Python packages you used and why"
   ]
  },
  {
   "cell_type": "markdown",
   "id": "b1885552",
   "metadata": {},
   "source": [
    "Will do once we finish implementation..."
   ]
  },
  {
   "cell_type": "code",
   "execution_count": 1,
   "id": "c8017f5d",
   "metadata": {},
   "outputs": [],
   "source": [
    "# Importing necessary packages\n",
    "import numpy as np\n",
    "import pandas as pd\n",
    "import geopandas as gpd\n",
    "import matplotlib.pyplot as plt\n",
    "from shapely import wkt\n",
    "\n",
    "import warnings\n",
    "warnings.filterwarnings(\"ignore\")\n",
    "\n",
    "import arcgis\n",
    "from arcgis.gis import GIS\n",
    "\n",
    "from sklearn.preprocessing import *\n",
    "from sklearn.linear_model import *\n",
    "from sklearn.metrics import mean_squared_error\n",
    "from sklearn.model_selection import train_test_split"
   ]
  },
  {
   "cell_type": "code",
   "execution_count": 2,
   "id": "2cfc87c0",
   "metadata": {},
   "outputs": [],
   "source": [
    "gis = GIS(username='dsc170wi24_9', password='GPAAAAAA100')"
   ]
  },
  {
   "cell_type": "markdown",
   "id": "ad0eeb8a",
   "metadata": {},
   "source": [
    "### [6.](#Table-of-Contents) Data sources"
   ]
  },
  {
   "cell_type": "markdown",
   "id": "e49d254b",
   "metadata": {},
   "source": [
    "1.  https://opendata.sandag.org/Sustainable-Development-Goals/SDG-Indicator-5-b-1-Data-Computer-Ownership/tsaq-axm2/abo\n",
    "\n",
    "    - This URL provides data regarding computer ownership in San Diego. Specifically, the data includes information on the number of households with one or more types of computing devices, such as desktops, laptops, smartphones, tablets, or other portable wireless computers, and other computer types. There are no concerns related to data quality or constraints. The geographic granularity of this data is census tracts, making it ideal for use with the other data source we have identified. Our choice of sources has evolved since the proposal phase, as we considered whether to join/merge data by census tracts instead of zip codes. We decided that analyzing census tracts would yield more comprehensive results, given the greater number of census tracts in San Diego compared to zip codes. Although we cannot use the zip code data, there is still ample information available for analysis from this URL.\n",
    "    \n",
    "    \n",
    "2. https://opendata.sandag.org/stories/s/Digital-Divide-2-0-Broadband-Access-and-More/9vde-3c89/\n",
    "\n",
    "    - This URL contains data about broadband providers per census block code, including bandwidth performance/accessibility and geographic information. Specifically, this URL provides three different dataframes that we can utilize in our analysis. We aim to convert the census block code to census tracts and use the data accordingly. While there might be a need for significant data cleaning, there are no concerns related to data quality or constraints. Once again, our choices of sources have evolved, and we have decided to focus solely on data associated with census tracts instead of zip codes.\n",
    "    \n",
    "    \n",
    "3. https://opendata.sandag.org/stories/s/bft8-8eec\n",
    "\n",
    "    - San Diego unemployment rates. Only includes high populated areas (89 out of 113 zip code districts included).\n",
    "    \n",
    "\n",
    "4. https://data.sandiegocounty.gov/Maps-and-Geographical-Resources/Zip-Codes/vsuf-uefy\n",
    "    - San Diego county boundaries"
   ]
  },
  {
   "cell_type": "code",
   "execution_count": 3,
   "id": "c3792d4e",
   "metadata": {},
   "outputs": [
    {
     "data": {
      "text/html": [
       "<div>\n",
       "<style scoped>\n",
       "    .dataframe tbody tr th:only-of-type {\n",
       "        vertical-align: middle;\n",
       "    }\n",
       "\n",
       "    .dataframe tbody tr th {\n",
       "        vertical-align: top;\n",
       "    }\n",
       "\n",
       "    .dataframe thead th {\n",
       "        text-align: right;\n",
       "    }\n",
       "</style>\n",
       "<table border=\"1\" class=\"dataframe\">\n",
       "  <thead>\n",
       "    <tr style=\"text-align: right;\">\n",
       "      <th></th>\n",
       "      <th>Year</th>\n",
       "      <th>Geography Type</th>\n",
       "      <th>Geography Name</th>\n",
       "      <th>Estimate</th>\n",
       "      <th>Estimate MOE</th>\n",
       "      <th>Households</th>\n",
       "      <th>Households MOE</th>\n",
       "      <th>Percent</th>\n",
       "      <th>Percent MOE</th>\n",
       "      <th>Target Value</th>\n",
       "      <th>Target Status</th>\n",
       "      <th>GEOID</th>\n",
       "      <th>Geometry</th>\n",
       "    </tr>\n",
       "  </thead>\n",
       "  <tbody>\n",
       "    <tr>\n",
       "      <th>0</th>\n",
       "      <td>2020</td>\n",
       "      <td>Jurisdiction</td>\n",
       "      <td>Carlsbad</td>\n",
       "      <td>42011</td>\n",
       "      <td>932.0</td>\n",
       "      <td>43107</td>\n",
       "      <td>899.0</td>\n",
       "      <td>1.0</td>\n",
       "      <td>0.8</td>\n",
       "      <td>1</td>\n",
       "      <td>Off Target</td>\n",
       "      <td>NaN</td>\n",
       "      <td>MULTIPOLYGON (((-117.30001409919029 33.1821791...</td>\n",
       "    </tr>\n",
       "    <tr>\n",
       "      <th>1</th>\n",
       "      <td>2020</td>\n",
       "      <td>Jurisdiction</td>\n",
       "      <td>Chula Vista</td>\n",
       "      <td>75382</td>\n",
       "      <td>1445.0</td>\n",
       "      <td>79486</td>\n",
       "      <td>1527.0</td>\n",
       "      <td>0.9</td>\n",
       "      <td>0.6</td>\n",
       "      <td>1</td>\n",
       "      <td>Off Target</td>\n",
       "      <td>NaN</td>\n",
       "      <td>MULTIPOLYGON (((-116.93243833910641 32.6489027...</td>\n",
       "    </tr>\n",
       "    <tr>\n",
       "      <th>2</th>\n",
       "      <td>2020</td>\n",
       "      <td>Jurisdiction</td>\n",
       "      <td>Coronado</td>\n",
       "      <td>8485</td>\n",
       "      <td>730.0</td>\n",
       "      <td>8672</td>\n",
       "      <td>744.0</td>\n",
       "      <td>1.0</td>\n",
       "      <td>0.9</td>\n",
       "      <td>1</td>\n",
       "      <td>Off Target</td>\n",
       "      <td>NaN</td>\n",
       "      <td>MULTIPOLYGON (((-117.11864979666782 32.5912392...</td>\n",
       "    </tr>\n",
       "    <tr>\n",
       "      <th>3</th>\n",
       "      <td>2020</td>\n",
       "      <td>Jurisdiction</td>\n",
       "      <td>Del Mar</td>\n",
       "      <td>2019</td>\n",
       "      <td>188.0</td>\n",
       "      <td>2033</td>\n",
       "      <td>189.0</td>\n",
       "      <td>1.0</td>\n",
       "      <td>1.1</td>\n",
       "      <td>1</td>\n",
       "      <td>Off Target</td>\n",
       "      <td>NaN</td>\n",
       "      <td>MULTIPOLYGON (((-117.26090073109076 32.9804515...</td>\n",
       "    </tr>\n",
       "    <tr>\n",
       "      <th>4</th>\n",
       "      <td>2020</td>\n",
       "      <td>Jurisdiction</td>\n",
       "      <td>El Cajon</td>\n",
       "      <td>31839</td>\n",
       "      <td>744.0</td>\n",
       "      <td>33496</td>\n",
       "      <td>800.0</td>\n",
       "      <td>1.0</td>\n",
       "      <td>0.8</td>\n",
       "      <td>1</td>\n",
       "      <td>Off Target</td>\n",
       "      <td>NaN</td>\n",
       "      <td>MULTIPOLYGON (((-116.98373300021298 32.8303257...</td>\n",
       "    </tr>\n",
       "  </tbody>\n",
       "</table>\n",
       "</div>"
      ],
      "text/plain": [
       "   Year Geography Type Geography Name  Estimate  Estimate MOE  Households  \\\n",
       "0  2020   Jurisdiction       Carlsbad     42011         932.0       43107   \n",
       "1  2020   Jurisdiction    Chula Vista     75382        1445.0       79486   \n",
       "2  2020   Jurisdiction       Coronado      8485         730.0        8672   \n",
       "3  2020   Jurisdiction        Del Mar      2019         188.0        2033   \n",
       "4  2020   Jurisdiction       El Cajon     31839         744.0       33496   \n",
       "\n",
       "   Households MOE  Percent  Percent MOE  Target Value Target Status GEOID  \\\n",
       "0           899.0      1.0          0.8             1    Off Target   NaN   \n",
       "1          1527.0      0.9          0.6             1    Off Target   NaN   \n",
       "2           744.0      1.0          0.9             1    Off Target   NaN   \n",
       "3           189.0      1.0          1.1             1    Off Target   NaN   \n",
       "4           800.0      1.0          0.8             1    Off Target   NaN   \n",
       "\n",
       "                                            Geometry  \n",
       "0  MULTIPOLYGON (((-117.30001409919029 33.1821791...  \n",
       "1  MULTIPOLYGON (((-116.93243833910641 32.6489027...  \n",
       "2  MULTIPOLYGON (((-117.11864979666782 32.5912392...  \n",
       "3  MULTIPOLYGON (((-117.26090073109076 32.9804515...  \n",
       "4  MULTIPOLYGON (((-116.98373300021298 32.8303257...  "
      ]
     },
     "execution_count": 3,
     "metadata": {},
     "output_type": "execute_result"
    }
   ],
   "source": [
    "computer_ownership = pd.read_csv('SDG_Indicator_5.b.1_Data_-_Computer_Ownership_20240226.csv')\n",
    "computer_ownership.head()"
   ]
  },
  {
   "cell_type": "code",
   "execution_count": 4,
   "id": "837ab496",
   "metadata": {},
   "outputs": [
    {
     "data": {
      "text/html": [
       "<div>\n",
       "<style scoped>\n",
       "    .dataframe tbody tr th:only-of-type {\n",
       "        vertical-align: middle;\n",
       "    }\n",
       "\n",
       "    .dataframe tbody tr th {\n",
       "        vertical-align: top;\n",
       "    }\n",
       "\n",
       "    .dataframe thead th {\n",
       "        text-align: right;\n",
       "    }\n",
       "</style>\n",
       "<table border=\"1\" class=\"dataframe\">\n",
       "  <thead>\n",
       "    <tr style=\"text-align: right;\">\n",
       "      <th></th>\n",
       "      <th>Census Tract</th>\n",
       "      <th>GEOID</th>\n",
       "      <th>Jurisdiction Name</th>\n",
       "      <th>Subregional Area Name</th>\n",
       "      <th>Final Decile</th>\n",
       "      <th>Digital Divide Impact</th>\n",
       "      <th>Total Households</th>\n",
       "      <th>Total Population</th>\n",
       "      <th>Households with No Broadband</th>\n",
       "      <th>Percent No Broadband</th>\n",
       "      <th>...</th>\n",
       "      <th>Would Use Internet on Cell More Often if Less Expensive Pop/100 Z-Score</th>\n",
       "      <th>Would Use Internet on Cell More Often if Less Expensive Pop/100 Z Decile</th>\n",
       "      <th>Wld Use Internet on Cell More Often if Web Loaded Easier HHs</th>\n",
       "      <th>Wld Use Internet on Cell More Often if Web Loaded Easier Pop/100 HHs</th>\n",
       "      <th>Wld Use Internet on Cell More Often if Web Loaded Easier Index</th>\n",
       "      <th>Wld Use Internet on Cell More Often if Web Loaded Easier Idx Decile</th>\n",
       "      <th>Z-Score Wld Use Internet on Cell More Often if Web Loaded Easier</th>\n",
       "      <th>Wld Use Internet on Cell More Often if Web Loaded Easier Z Decile</th>\n",
       "      <th>Total Combined Z Score</th>\n",
       "      <th>the_geom</th>\n",
       "    </tr>\n",
       "  </thead>\n",
       "  <tbody>\n",
       "    <tr>\n",
       "      <th>0</th>\n",
       "      <td>100</td>\n",
       "      <td>6073000100</td>\n",
       "      <td>SAN DIEGO</td>\n",
       "      <td>CENTRAL SAN DIEGO</td>\n",
       "      <td>3</td>\n",
       "      <td>Least Impacted by Digital Divide</td>\n",
       "      <td>1165</td>\n",
       "      <td>2970</td>\n",
       "      <td>56</td>\n",
       "      <td>0.05</td>\n",
       "      <td>...</td>\n",
       "      <td>-27.8</td>\n",
       "      <td>2</td>\n",
       "      <td>1275</td>\n",
       "      <td>93</td>\n",
       "      <td>99</td>\n",
       "      <td>5</td>\n",
       "      <td>-2.3</td>\n",
       "      <td>5</td>\n",
       "      <td>21</td>\n",
       "      <td>MULTIPOLYGON (((-117.18857973872 32.7591518559...</td>\n",
       "    </tr>\n",
       "    <tr>\n",
       "      <th>1</th>\n",
       "      <td>201</td>\n",
       "      <td>6073000201</td>\n",
       "      <td>SAN DIEGO</td>\n",
       "      <td>CENTRAL SAN DIEGO</td>\n",
       "      <td>7</td>\n",
       "      <td>Somewhat Impacted by Digital Divide</td>\n",
       "      <td>1176</td>\n",
       "      <td>2198</td>\n",
       "      <td>114</td>\n",
       "      <td>0.10</td>\n",
       "      <td>...</td>\n",
       "      <td>-26.5</td>\n",
       "      <td>3</td>\n",
       "      <td>980</td>\n",
       "      <td>88</td>\n",
       "      <td>95</td>\n",
       "      <td>3</td>\n",
       "      <td>-16.5</td>\n",
       "      <td>3</td>\n",
       "      <td>30</td>\n",
       "      <td>MULTIPOLYGON (((-117.169621906124 32.757828765...</td>\n",
       "    </tr>\n",
       "    <tr>\n",
       "      <th>2</th>\n",
       "      <td>202</td>\n",
       "      <td>6073000202</td>\n",
       "      <td>SAN DIEGO</td>\n",
       "      <td>CENTRAL SAN DIEGO</td>\n",
       "      <td>5</td>\n",
       "      <td>Somewhat Impacted by Digital Divide</td>\n",
       "      <td>2242</td>\n",
       "      <td>4129</td>\n",
       "      <td>184</td>\n",
       "      <td>0.08</td>\n",
       "      <td>...</td>\n",
       "      <td>-35.9</td>\n",
       "      <td>2</td>\n",
       "      <td>2027</td>\n",
       "      <td>88</td>\n",
       "      <td>94</td>\n",
       "      <td>2</td>\n",
       "      <td>-28.8</td>\n",
       "      <td>2</td>\n",
       "      <td>27</td>\n",
       "      <td>MULTIPOLYGON (((-117.174841905488 32.749878764...</td>\n",
       "    </tr>\n",
       "    <tr>\n",
       "      <th>3</th>\n",
       "      <td>301</td>\n",
       "      <td>6073000301</td>\n",
       "      <td>SAN DIEGO</td>\n",
       "      <td>CENTRAL SAN DIEGO</td>\n",
       "      <td>6</td>\n",
       "      <td>Somewhat Impacted by Digital Divide</td>\n",
       "      <td>1383</td>\n",
       "      <td>2258</td>\n",
       "      <td>117</td>\n",
       "      <td>0.08</td>\n",
       "      <td>...</td>\n",
       "      <td>-35.7</td>\n",
       "      <td>2</td>\n",
       "      <td>1111</td>\n",
       "      <td>84</td>\n",
       "      <td>90</td>\n",
       "      <td>1</td>\n",
       "      <td>-36.8</td>\n",
       "      <td>2</td>\n",
       "      <td>28</td>\n",
       "      <td>MULTIPOLYGON (((-117.16667390429 32.7489877649...</td>\n",
       "    </tr>\n",
       "    <tr>\n",
       "      <th>4</th>\n",
       "      <td>302</td>\n",
       "      <td>6073000302</td>\n",
       "      <td>SAN DIEGO</td>\n",
       "      <td>CENTRAL SAN DIEGO</td>\n",
       "      <td>4</td>\n",
       "      <td>Somewhat Impacted by Digital Divide</td>\n",
       "      <td>1556</td>\n",
       "      <td>2945</td>\n",
       "      <td>93</td>\n",
       "      <td>0.06</td>\n",
       "      <td>...</td>\n",
       "      <td>-38.1</td>\n",
       "      <td>2</td>\n",
       "      <td>1434</td>\n",
       "      <td>85</td>\n",
       "      <td>91</td>\n",
       "      <td>2</td>\n",
       "      <td>-35.2</td>\n",
       "      <td>2</td>\n",
       "      <td>23</td>\n",
       "      <td>MULTIPOLYGON (((-117.15628090259 32.7484007649...</td>\n",
       "    </tr>\n",
       "  </tbody>\n",
       "</table>\n",
       "<p>5 rows × 88 columns</p>\n",
       "</div>"
      ],
      "text/plain": [
       "   Census Tract       GEOID Jurisdiction Name Subregional Area Name  \\\n",
       "0           100  6073000100         SAN DIEGO     CENTRAL SAN DIEGO   \n",
       "1           201  6073000201         SAN DIEGO     CENTRAL SAN DIEGO   \n",
       "2           202  6073000202         SAN DIEGO     CENTRAL SAN DIEGO   \n",
       "3           301  6073000301         SAN DIEGO     CENTRAL SAN DIEGO   \n",
       "4           302  6073000302         SAN DIEGO     CENTRAL SAN DIEGO   \n",
       "\n",
       "   Final Decile                Digital Divide Impact  Total Households  \\\n",
       "0             3     Least Impacted by Digital Divide              1165   \n",
       "1             7  Somewhat Impacted by Digital Divide              1176   \n",
       "2             5  Somewhat Impacted by Digital Divide              2242   \n",
       "3             6  Somewhat Impacted by Digital Divide              1383   \n",
       "4             4  Somewhat Impacted by Digital Divide              1556   \n",
       "\n",
       "   Total Population  Households with No Broadband  Percent No Broadband  ...  \\\n",
       "0              2970                            56                  0.05  ...   \n",
       "1              2198                           114                  0.10  ...   \n",
       "2              4129                           184                  0.08  ...   \n",
       "3              2258                           117                  0.08  ...   \n",
       "4              2945                            93                  0.06  ...   \n",
       "\n",
       "   Would Use Internet on Cell More Often if Less Expensive Pop/100 Z-Score  \\\n",
       "0                                              -27.8                         \n",
       "1                                              -26.5                         \n",
       "2                                              -35.9                         \n",
       "3                                              -35.7                         \n",
       "4                                              -38.1                         \n",
       "\n",
       "   Would Use Internet on Cell More Often if Less Expensive Pop/100 Z Decile  \\\n",
       "0                                                  2                          \n",
       "1                                                  3                          \n",
       "2                                                  2                          \n",
       "3                                                  2                          \n",
       "4                                                  2                          \n",
       "\n",
       "   Wld Use Internet on Cell More Often if Web Loaded Easier HHs  \\\n",
       "0                                               1275              \n",
       "1                                                980              \n",
       "2                                               2027              \n",
       "3                                               1111              \n",
       "4                                               1434              \n",
       "\n",
       "   Wld Use Internet on Cell More Often if Web Loaded Easier Pop/100 HHs  \\\n",
       "0                                                 93                      \n",
       "1                                                 88                      \n",
       "2                                                 88                      \n",
       "3                                                 84                      \n",
       "4                                                 85                      \n",
       "\n",
       "   Wld Use Internet on Cell More Often if Web Loaded Easier Index  \\\n",
       "0                                                 99                \n",
       "1                                                 95                \n",
       "2                                                 94                \n",
       "3                                                 90                \n",
       "4                                                 91                \n",
       "\n",
       "   Wld Use Internet on Cell More Often if Web Loaded Easier Idx Decile  \\\n",
       "0                                                  5                     \n",
       "1                                                  3                     \n",
       "2                                                  2                     \n",
       "3                                                  1                     \n",
       "4                                                  2                     \n",
       "\n",
       "   Z-Score Wld Use Internet on Cell More Often if Web Loaded Easier  \\\n",
       "0                                               -2.3                  \n",
       "1                                              -16.5                  \n",
       "2                                              -28.8                  \n",
       "3                                              -36.8                  \n",
       "4                                              -35.2                  \n",
       "\n",
       "   Wld Use Internet on Cell More Often if Web Loaded Easier Z Decile  \\\n",
       "0                                                  5                   \n",
       "1                                                  3                   \n",
       "2                                                  2                   \n",
       "3                                                  2                   \n",
       "4                                                  2                   \n",
       "\n",
       "   Total Combined Z Score                                           the_geom  \n",
       "0                      21  MULTIPOLYGON (((-117.18857973872 32.7591518559...  \n",
       "1                      30  MULTIPOLYGON (((-117.169621906124 32.757828765...  \n",
       "2                      27  MULTIPOLYGON (((-117.174841905488 32.749878764...  \n",
       "3                      28  MULTIPOLYGON (((-117.16667390429 32.7489877649...  \n",
       "4                      23  MULTIPOLYGON (((-117.15628090259 32.7484007649...  \n",
       "\n",
       "[5 rows x 88 columns]"
      ]
     },
     "execution_count": 4,
     "metadata": {},
     "output_type": "execute_result"
    }
   ],
   "source": [
    "broadband = pd.read_csv('Digital_Divide_2.0_Scoring_Data_20240307.csv')\n",
    "broadband.head()"
   ]
  },
  {
   "cell_type": "code",
   "execution_count": 5,
   "id": "08dfd3b9",
   "metadata": {},
   "outputs": [
    {
     "data": {
      "text/html": [
       "<div>\n",
       "<style scoped>\n",
       "    .dataframe tbody tr th:only-of-type {\n",
       "        vertical-align: middle;\n",
       "    }\n",
       "\n",
       "    .dataframe tbody tr th {\n",
       "        vertical-align: top;\n",
       "    }\n",
       "\n",
       "    .dataframe thead th {\n",
       "        text-align: right;\n",
       "    }\n",
       "</style>\n",
       "<table border=\"1\" class=\"dataframe\">\n",
       "  <thead>\n",
       "    <tr style=\"text-align: right;\">\n",
       "      <th></th>\n",
       "      <th>Date</th>\n",
       "      <th>COMMUNITY</th>\n",
       "      <th>ZIP</th>\n",
       "      <th>Unemployment rate (%)</th>\n",
       "    </tr>\n",
       "  </thead>\n",
       "  <tbody>\n",
       "    <tr>\n",
       "      <th>0</th>\n",
       "      <td>06/01/2021 12:00:00 AM</td>\n",
       "      <td>Campo</td>\n",
       "      <td>91906</td>\n",
       "      <td>9.90</td>\n",
       "    </tr>\n",
       "    <tr>\n",
       "      <th>1</th>\n",
       "      <td>05/01/2021 12:00:00 AM</td>\n",
       "      <td>Campo</td>\n",
       "      <td>91906</td>\n",
       "      <td>9.34</td>\n",
       "    </tr>\n",
       "    <tr>\n",
       "      <th>2</th>\n",
       "      <td>04/01/2021 12:00:00 AM</td>\n",
       "      <td>Campo</td>\n",
       "      <td>91906</td>\n",
       "      <td>10.14</td>\n",
       "    </tr>\n",
       "    <tr>\n",
       "      <th>3</th>\n",
       "      <td>03/01/2021 12:00:00 AM</td>\n",
       "      <td>Campo</td>\n",
       "      <td>91906</td>\n",
       "      <td>10.55</td>\n",
       "    </tr>\n",
       "    <tr>\n",
       "      <th>4</th>\n",
       "      <td>02/01/2021 12:00:00 AM</td>\n",
       "      <td>Campo</td>\n",
       "      <td>91906</td>\n",
       "      <td>10.93</td>\n",
       "    </tr>\n",
       "  </tbody>\n",
       "</table>\n",
       "</div>"
      ],
      "text/plain": [
       "                     Date COMMUNITY    ZIP  Unemployment rate (%)\n",
       "0  06/01/2021 12:00:00 AM     Campo  91906                   9.90\n",
       "1  05/01/2021 12:00:00 AM     Campo  91906                   9.34\n",
       "2  04/01/2021 12:00:00 AM     Campo  91906                  10.14\n",
       "3  03/01/2021 12:00:00 AM     Campo  91906                  10.55\n",
       "4  02/01/2021 12:00:00 AM     Campo  91906                  10.93"
      ]
     },
     "execution_count": 5,
     "metadata": {},
     "output_type": "execute_result"
    }
   ],
   "source": [
    "unemploy = pd.read_csv('Unemployment_20240226.csv')\n",
    "unemploy.head()"
   ]
  },
  {
   "cell_type": "code",
   "execution_count": 6,
   "id": "d7f5189a",
   "metadata": {
    "scrolled": true
   },
   "outputs": [
    {
     "data": {
      "text/html": [
       "<div>\n",
       "<style scoped>\n",
       "    .dataframe tbody tr th:only-of-type {\n",
       "        vertical-align: middle;\n",
       "    }\n",
       "\n",
       "    .dataframe tbody tr th {\n",
       "        vertical-align: top;\n",
       "    }\n",
       "\n",
       "    .dataframe thead th {\n",
       "        text-align: right;\n",
       "    }\n",
       "</style>\n",
       "<table border=\"1\" class=\"dataframe\">\n",
       "  <thead>\n",
       "    <tr style=\"text-align: right;\">\n",
       "      <th></th>\n",
       "      <th>SHAPE_STAr</th>\n",
       "      <th>ZIP</th>\n",
       "      <th>the_geom</th>\n",
       "      <th>COMMUNITY</th>\n",
       "      <th>SHAPE_STLe</th>\n",
       "    </tr>\n",
       "  </thead>\n",
       "  <tbody>\n",
       "    <tr>\n",
       "      <th>0</th>\n",
       "      <td>4.149940e+09</td>\n",
       "      <td>91901</td>\n",
       "      <td>MULTIPOLYGON (((-116.74539162745315 32.9606312...</td>\n",
       "      <td>Alpine</td>\n",
       "      <td>326045.262676</td>\n",
       "    </tr>\n",
       "    <tr>\n",
       "      <th>1</th>\n",
       "      <td>2.739094e+08</td>\n",
       "      <td>91902</td>\n",
       "      <td>MULTIPOLYGON (((-116.97171627422289 32.7083793...</td>\n",
       "      <td>Bonita</td>\n",
       "      <td>113257.374615</td>\n",
       "    </tr>\n",
       "    <tr>\n",
       "      <th>2</th>\n",
       "      <td>2.735681e+09</td>\n",
       "      <td>91905</td>\n",
       "      <td>MULTIPOLYGON (((-116.23165374029038 32.7508333...</td>\n",
       "      <td>Boulevard</td>\n",
       "      <td>241725.552214</td>\n",
       "    </tr>\n",
       "    <tr>\n",
       "      <th>3</th>\n",
       "      <td>3.066759e+09</td>\n",
       "      <td>91906</td>\n",
       "      <td>MULTIPOLYGON (((-116.3567713215266 32.70460454...</td>\n",
       "      <td>Campo</td>\n",
       "      <td>287410.325075</td>\n",
       "    </tr>\n",
       "    <tr>\n",
       "      <th>4</th>\n",
       "      <td>4.034374e+08</td>\n",
       "      <td>91910</td>\n",
       "      <td>MULTIPOLYGON (((-117.06354233507422 32.6501109...</td>\n",
       "      <td>Chula Vista</td>\n",
       "      <td>112587.791814</td>\n",
       "    </tr>\n",
       "  </tbody>\n",
       "</table>\n",
       "</div>"
      ],
      "text/plain": [
       "     SHAPE_STAr    ZIP                                           the_geom  \\\n",
       "0  4.149940e+09  91901  MULTIPOLYGON (((-116.74539162745315 32.9606312...   \n",
       "1  2.739094e+08  91902  MULTIPOLYGON (((-116.97171627422289 32.7083793...   \n",
       "2  2.735681e+09  91905  MULTIPOLYGON (((-116.23165374029038 32.7508333...   \n",
       "3  3.066759e+09  91906  MULTIPOLYGON (((-116.3567713215266 32.70460454...   \n",
       "4  4.034374e+08  91910  MULTIPOLYGON (((-117.06354233507422 32.6501109...   \n",
       "\n",
       "     COMMUNITY     SHAPE_STLe  \n",
       "0       Alpine  326045.262676  \n",
       "1       Bonita  113257.374615  \n",
       "2    Boulevard  241725.552214  \n",
       "3        Campo  287410.325075  \n",
       "4  Chula Vista  112587.791814  "
      ]
     },
     "execution_count": 6,
     "metadata": {},
     "output_type": "execute_result"
    }
   ],
   "source": [
    "zipcodes = pd.read_csv('ZIP_CODES.csv')\n",
    "zipcodes.head()"
   ]
  },
  {
   "cell_type": "markdown",
   "id": "80a4dc87",
   "metadata": {},
   "source": [
    "### [7.](#Table-of-Contents) Data cleaning you have done"
   ]
  },
  {
   "cell_type": "code",
   "execution_count": 7,
   "id": "5b3d2f44",
   "metadata": {},
   "outputs": [
    {
     "data": {
      "text/html": [
       "<div>\n",
       "<style scoped>\n",
       "    .dataframe tbody tr th:only-of-type {\n",
       "        vertical-align: middle;\n",
       "    }\n",
       "\n",
       "    .dataframe tbody tr th {\n",
       "        vertical-align: top;\n",
       "    }\n",
       "\n",
       "    .dataframe thead th {\n",
       "        text-align: right;\n",
       "    }\n",
       "</style>\n",
       "<table border=\"1\" class=\"dataframe\">\n",
       "  <thead>\n",
       "    <tr style=\"text-align: right;\">\n",
       "      <th></th>\n",
       "      <th>Geography Name</th>\n",
       "      <th>Estimate</th>\n",
       "      <th>Households</th>\n",
       "      <th>Percent</th>\n",
       "      <th>geometry</th>\n",
       "    </tr>\n",
       "  </thead>\n",
       "  <tbody>\n",
       "    <tr>\n",
       "      <th>25</th>\n",
       "      <td>Census Tract 1</td>\n",
       "      <td>1117</td>\n",
       "      <td>1165</td>\n",
       "      <td>1.0</td>\n",
       "      <td>MULTIPOLYGON (((-13046077.037 3862535.430, -13...</td>\n",
       "    </tr>\n",
       "    <tr>\n",
       "      <th>26</th>\n",
       "      <td>Census Tract 2.01</td>\n",
       "      <td>1095</td>\n",
       "      <td>1176</td>\n",
       "      <td>0.9</td>\n",
       "      <td>MULTIPOLYGON (((-13044291.806 3863180.058, -13...</td>\n",
       "    </tr>\n",
       "    <tr>\n",
       "      <th>27</th>\n",
       "      <td>Census Tract 2.02</td>\n",
       "      <td>2179</td>\n",
       "      <td>2242</td>\n",
       "      <td>1.0</td>\n",
       "      <td>MULTIPOLYGON (((-13044867.996 3861599.656, -13...</td>\n",
       "    </tr>\n",
       "    <tr>\n",
       "      <th>28</th>\n",
       "      <td>Census Tract 3.01</td>\n",
       "      <td>1332</td>\n",
       "      <td>1383</td>\n",
       "      <td>1.0</td>\n",
       "      <td>MULTIPOLYGON (((-13043153.898 3862030.871, -13...</td>\n",
       "    </tr>\n",
       "    <tr>\n",
       "      <th>29</th>\n",
       "      <td>Census Tract 3.02</td>\n",
       "      <td>1545</td>\n",
       "      <td>1556</td>\n",
       "      <td>1.0</td>\n",
       "      <td>MULTIPOLYGON (((-13042637.376 3860964.246, -13...</td>\n",
       "    </tr>\n",
       "  </tbody>\n",
       "</table>\n",
       "</div>"
      ],
      "text/plain": [
       "       Geography Name  Estimate  Households  Percent  \\\n",
       "25     Census Tract 1      1117        1165      1.0   \n",
       "26  Census Tract 2.01      1095        1176      0.9   \n",
       "27  Census Tract 2.02      2179        2242      1.0   \n",
       "28  Census Tract 3.01      1332        1383      1.0   \n",
       "29  Census Tract 3.02      1545        1556      1.0   \n",
       "\n",
       "                                             geometry  \n",
       "25  MULTIPOLYGON (((-13046077.037 3862535.430, -13...  \n",
       "26  MULTIPOLYGON (((-13044291.806 3863180.058, -13...  \n",
       "27  MULTIPOLYGON (((-13044867.996 3861599.656, -13...  \n",
       "28  MULTIPOLYGON (((-13043153.898 3862030.871, -13...  \n",
       "29  MULTIPOLYGON (((-13042637.376 3860964.246, -13...  "
      ]
     },
     "execution_count": 7,
     "metadata": {},
     "output_type": "execute_result"
    }
   ],
   "source": [
    "computer_df = computer_ownership[computer_ownership['Geography Type']=='Tract']\n",
    "computer_df = computer_df[['Geography Name','Estimate','Households','Percent','Geometry']]\n",
    "computer_df = computer_df.dropna(subset=['Geometry'])\n",
    "computer_df = computer_df.rename(columns={'Geometry':'geometry'})\n",
    "# convert to GDF\n",
    "computer_df['geometry'] = computer_df['geometry'].apply(wkt.loads)\n",
    "computer_gdf = gpd.GeoDataFrame(computer_df).set_crs('epsg:4326').to_crs('epsg:3857')\n",
    "computer_gdf.head()"
   ]
  },
  {
   "cell_type": "code",
   "execution_count": 8,
   "id": "4322630b",
   "metadata": {},
   "outputs": [
    {
     "data": {
      "text/html": [
       "<div>\n",
       "<style scoped>\n",
       "    .dataframe tbody tr th:only-of-type {\n",
       "        vertical-align: middle;\n",
       "    }\n",
       "\n",
       "    .dataframe tbody tr th {\n",
       "        vertical-align: top;\n",
       "    }\n",
       "\n",
       "    .dataframe thead th {\n",
       "        text-align: right;\n",
       "    }\n",
       "</style>\n",
       "<table border=\"1\" class=\"dataframe\">\n",
       "  <thead>\n",
       "    <tr style=\"text-align: right;\">\n",
       "      <th></th>\n",
       "      <th>Census Tract</th>\n",
       "      <th>Total Population</th>\n",
       "      <th>Households with No Broadband</th>\n",
       "      <th>Percent No Broadband</th>\n",
       "      <th>geometry</th>\n",
       "    </tr>\n",
       "  </thead>\n",
       "  <tbody>\n",
       "    <tr>\n",
       "      <th>0</th>\n",
       "      <td>100</td>\n",
       "      <td>2970</td>\n",
       "      <td>56</td>\n",
       "      <td>0.05</td>\n",
       "      <td>MULTIPOLYGON (((-13045373.023 3863378.862, -13...</td>\n",
       "    </tr>\n",
       "    <tr>\n",
       "      <th>1</th>\n",
       "      <td>201</td>\n",
       "      <td>2198</td>\n",
       "      <td>114</td>\n",
       "      <td>0.10</td>\n",
       "      <td>MULTIPOLYGON (((-13043262.647 3863203.722, -13...</td>\n",
       "    </tr>\n",
       "    <tr>\n",
       "      <th>2</th>\n",
       "      <td>202</td>\n",
       "      <td>4129</td>\n",
       "      <td>184</td>\n",
       "      <td>0.08</td>\n",
       "      <td>MULTIPOLYGON (((-13043843.735 3862151.418, -13...</td>\n",
       "    </tr>\n",
       "    <tr>\n",
       "      <th>3</th>\n",
       "      <td>301</td>\n",
       "      <td>2258</td>\n",
       "      <td>117</td>\n",
       "      <td>0.08</td>\n",
       "      <td>MULTIPOLYGON (((-13042934.477 3862033.487, -13...</td>\n",
       "    </tr>\n",
       "    <tr>\n",
       "      <th>4</th>\n",
       "      <td>302</td>\n",
       "      <td>2945</td>\n",
       "      <td>93</td>\n",
       "      <td>0.06</td>\n",
       "      <td>MULTIPOLYGON (((-13041777.533 3861955.793, -13...</td>\n",
       "    </tr>\n",
       "  </tbody>\n",
       "</table>\n",
       "</div>"
      ],
      "text/plain": [
       "   Census Tract  Total Population  Households with No Broadband  \\\n",
       "0           100              2970                            56   \n",
       "1           201              2198                           114   \n",
       "2           202              4129                           184   \n",
       "3           301              2258                           117   \n",
       "4           302              2945                            93   \n",
       "\n",
       "   Percent No Broadband                                           geometry  \n",
       "0                  0.05  MULTIPOLYGON (((-13045373.023 3863378.862, -13...  \n",
       "1                  0.10  MULTIPOLYGON (((-13043262.647 3863203.722, -13...  \n",
       "2                  0.08  MULTIPOLYGON (((-13043843.735 3862151.418, -13...  \n",
       "3                  0.08  MULTIPOLYGON (((-13042934.477 3862033.487, -13...  \n",
       "4                  0.06  MULTIPOLYGON (((-13041777.533 3861955.793, -13...  "
      ]
     },
     "execution_count": 8,
     "metadata": {},
     "output_type": "execute_result"
    }
   ],
   "source": [
    "broadband_df = broadband[['Census Tract','Total Population', \n",
    "                          'Households with No Broadband',\n",
    "                          'Percent No Broadband','the_geom']]\n",
    "broadband_df = broadband_df.dropna(subset=['the_geom'])\n",
    "broadband_df = broadband_df.rename(columns={'the_geom':'geometry'})\n",
    "# convert to GDF\n",
    "broadband_df['geometry'] = broadband_df['geometry'].apply(wkt.loads)\n",
    "broadband_gdf = gpd.GeoDataFrame(broadband_df).set_crs('epsg:4326').to_crs('epsg:3857')\n",
    "broadband_gdf.head()"
   ]
  },
  {
   "cell_type": "code",
   "execution_count": 9,
   "id": "22773ddf",
   "metadata": {},
   "outputs": [
    {
     "data": {
      "text/html": [
       "<div>\n",
       "<style scoped>\n",
       "    .dataframe tbody tr th:only-of-type {\n",
       "        vertical-align: middle;\n",
       "    }\n",
       "\n",
       "    .dataframe tbody tr th {\n",
       "        vertical-align: top;\n",
       "    }\n",
       "\n",
       "    .dataframe thead th {\n",
       "        text-align: right;\n",
       "    }\n",
       "</style>\n",
       "<table border=\"1\" class=\"dataframe\">\n",
       "  <thead>\n",
       "    <tr style=\"text-align: right;\">\n",
       "      <th></th>\n",
       "      <th>COMMUNITY</th>\n",
       "      <th>ZIP</th>\n",
       "      <th>Unemployment rate (%)</th>\n",
       "    </tr>\n",
       "  </thead>\n",
       "  <tbody>\n",
       "    <tr>\n",
       "      <th>17</th>\n",
       "      <td>Boulevard</td>\n",
       "      <td>91905</td>\n",
       "      <td>3.69</td>\n",
       "    </tr>\n",
       "    <tr>\n",
       "      <th>54</th>\n",
       "      <td>Bonita</td>\n",
       "      <td>91902</td>\n",
       "      <td>3.64</td>\n",
       "    </tr>\n",
       "    <tr>\n",
       "      <th>91</th>\n",
       "      <td>Alpine</td>\n",
       "      <td>91901</td>\n",
       "      <td>2.62</td>\n",
       "    </tr>\n",
       "    <tr>\n",
       "      <th>128</th>\n",
       "      <td>Chula Vista S</td>\n",
       "      <td>91911</td>\n",
       "      <td>5.68</td>\n",
       "    </tr>\n",
       "    <tr>\n",
       "      <th>165</th>\n",
       "      <td>Chula Vista N</td>\n",
       "      <td>91910</td>\n",
       "      <td>4.79</td>\n",
       "    </tr>\n",
       "  </tbody>\n",
       "</table>\n",
       "</div>"
      ],
      "text/plain": [
       "         COMMUNITY    ZIP  Unemployment rate (%)\n",
       "17       Boulevard  91905                   3.69\n",
       "54          Bonita  91902                   3.64\n",
       "91          Alpine  91901                   2.62\n",
       "128  Chula Vista S  91911                   5.68\n",
       "165  Chula Vista N  91910                   4.79"
      ]
     },
     "execution_count": 9,
     "metadata": {},
     "output_type": "execute_result"
    }
   ],
   "source": [
    "unemploy_df = unemploy[unemploy['Date']=='02/01/2023 12:00:00 AM']\n",
    "unemploy_df = unemploy_df[['COMMUNITY','ZIP','Unemployment rate (%)']]\n",
    "unemploy_df['ZIP'] = unemploy_df['ZIP'].astype(int)\n",
    "unemploy_df = unemploy_df.drop_duplicates()\n",
    "unemploy_df.head()"
   ]
  },
  {
   "cell_type": "code",
   "execution_count": 10,
   "id": "d222454a",
   "metadata": {},
   "outputs": [
    {
     "data": {
      "text/html": [
       "<div>\n",
       "<style scoped>\n",
       "    .dataframe tbody tr th:only-of-type {\n",
       "        vertical-align: middle;\n",
       "    }\n",
       "\n",
       "    .dataframe tbody tr th {\n",
       "        vertical-align: top;\n",
       "    }\n",
       "\n",
       "    .dataframe thead th {\n",
       "        text-align: right;\n",
       "    }\n",
       "</style>\n",
       "<table border=\"1\" class=\"dataframe\">\n",
       "  <thead>\n",
       "    <tr style=\"text-align: right;\">\n",
       "      <th></th>\n",
       "      <th>ZIP</th>\n",
       "      <th>geometry</th>\n",
       "    </tr>\n",
       "  </thead>\n",
       "  <tbody>\n",
       "    <tr>\n",
       "      <th>0</th>\n",
       "      <td>91901</td>\n",
       "      <td>POLYGON ((-12996037.548 3890079.591, -12995531...</td>\n",
       "    </tr>\n",
       "    <tr>\n",
       "      <th>1</th>\n",
       "      <td>91902</td>\n",
       "      <td>POLYGON ((-13021231.893 3856659.864, -13021179...</td>\n",
       "    </tr>\n",
       "    <tr>\n",
       "      <th>2</th>\n",
       "      <td>91905</td>\n",
       "      <td>POLYGON ((-12938848.508 3862277.766, -12938451...</td>\n",
       "    </tr>\n",
       "    <tr>\n",
       "      <th>3</th>\n",
       "      <td>91906</td>\n",
       "      <td>POLYGON ((-12952776.534 3856160.475, -12952833...</td>\n",
       "    </tr>\n",
       "    <tr>\n",
       "      <th>4</th>\n",
       "      <td>91910</td>\n",
       "      <td>POLYGON ((-13031453.923 3848953.599, -13031443...</td>\n",
       "    </tr>\n",
       "  </tbody>\n",
       "</table>\n",
       "</div>"
      ],
      "text/plain": [
       "     ZIP                                           geometry\n",
       "0  91901  POLYGON ((-12996037.548 3890079.591, -12995531...\n",
       "1  91902  POLYGON ((-13021231.893 3856659.864, -13021179...\n",
       "2  91905  POLYGON ((-12938848.508 3862277.766, -12938451...\n",
       "3  91906  POLYGON ((-12952776.534 3856160.475, -12952833...\n",
       "4  91910  POLYGON ((-13031453.923 3848953.599, -13031443..."
      ]
     },
     "execution_count": 10,
     "metadata": {},
     "output_type": "execute_result"
    }
   ],
   "source": [
    "zipcode_df = zipcodes[['ZIP','the_geom']]\n",
    "zipcode_df = zipcode_df.drop_duplicates()\n",
    "zipcode_df = zipcode_df.rename(columns={'the_geom':'geometry'})\n",
    "# convert to GDF\n",
    "zipcode_df['geometry'] = zipcode_df['geometry'].apply(wkt.loads)\n",
    "zipcode_gdf = gpd.GeoDataFrame(zipcode_df).set_crs('epsg:4326').to_crs('epsg:3857')\n",
    "zipcode_gdf = zipcode_gdf.dissolve(by='ZIP').reset_index()\n",
    "zipcode_gdf.head()"
   ]
  },
  {
   "cell_type": "code",
   "execution_count": 11,
   "id": "20d8d405",
   "metadata": {},
   "outputs": [
    {
     "data": {
      "text/html": [
       "<div>\n",
       "<style scoped>\n",
       "    .dataframe tbody tr th:only-of-type {\n",
       "        vertical-align: middle;\n",
       "    }\n",
       "\n",
       "    .dataframe tbody tr th {\n",
       "        vertical-align: top;\n",
       "    }\n",
       "\n",
       "    .dataframe thead th {\n",
       "        text-align: right;\n",
       "    }\n",
       "</style>\n",
       "<table border=\"1\" class=\"dataframe\">\n",
       "  <thead>\n",
       "    <tr style=\"text-align: right;\">\n",
       "      <th></th>\n",
       "      <th>COMMUNITY</th>\n",
       "      <th>ZIP</th>\n",
       "      <th>Unemployment rate (%)</th>\n",
       "      <th>geometry</th>\n",
       "    </tr>\n",
       "  </thead>\n",
       "  <tbody>\n",
       "    <tr>\n",
       "      <th>0</th>\n",
       "      <td>Boulevard</td>\n",
       "      <td>91905</td>\n",
       "      <td>3.69</td>\n",
       "      <td>POLYGON ((-12938848.508 3862277.766, -12938451...</td>\n",
       "    </tr>\n",
       "    <tr>\n",
       "      <th>1</th>\n",
       "      <td>Bonita</td>\n",
       "      <td>91902</td>\n",
       "      <td>3.64</td>\n",
       "      <td>POLYGON ((-13021231.893 3856659.864, -13021179...</td>\n",
       "    </tr>\n",
       "    <tr>\n",
       "      <th>2</th>\n",
       "      <td>Alpine</td>\n",
       "      <td>91901</td>\n",
       "      <td>2.62</td>\n",
       "      <td>POLYGON ((-12996037.548 3890079.591, -12995531...</td>\n",
       "    </tr>\n",
       "    <tr>\n",
       "      <th>3</th>\n",
       "      <td>Chula Vista S</td>\n",
       "      <td>91911</td>\n",
       "      <td>5.68</td>\n",
       "      <td>POLYGON ((-13029546.478 3846090.843, -13029540...</td>\n",
       "    </tr>\n",
       "    <tr>\n",
       "      <th>4</th>\n",
       "      <td>Chula Vista N</td>\n",
       "      <td>91910</td>\n",
       "      <td>4.79</td>\n",
       "      <td>POLYGON ((-13031453.923 3848953.599, -13031443...</td>\n",
       "    </tr>\n",
       "  </tbody>\n",
       "</table>\n",
       "</div>"
      ],
      "text/plain": [
       "       COMMUNITY    ZIP  Unemployment rate (%)  \\\n",
       "0      Boulevard  91905                   3.69   \n",
       "1         Bonita  91902                   3.64   \n",
       "2         Alpine  91901                   2.62   \n",
       "3  Chula Vista S  91911                   5.68   \n",
       "4  Chula Vista N  91910                   4.79   \n",
       "\n",
       "                                            geometry  \n",
       "0  POLYGON ((-12938848.508 3862277.766, -12938451...  \n",
       "1  POLYGON ((-13021231.893 3856659.864, -13021179...  \n",
       "2  POLYGON ((-12996037.548 3890079.591, -12995531...  \n",
       "3  POLYGON ((-13029546.478 3846090.843, -13029540...  \n",
       "4  POLYGON ((-13031453.923 3848953.599, -13031443...  "
      ]
     },
     "execution_count": 11,
     "metadata": {},
     "output_type": "execute_result"
    }
   ],
   "source": [
    "# merge\n",
    "unemploy_df = pd.merge(unemploy_df, zipcode_gdf, on='ZIP', how='left')\n",
    "unemploy_gdf = gpd.GeoDataFrame(unemploy_df)\n",
    "unemploy_gdf.head()"
   ]
  },
  {
   "cell_type": "markdown",
   "id": "c5958c9e",
   "metadata": {},
   "source": [
    "### [8.](#Table-of-Contents) Descriptive statistics for the data"
   ]
  },
  {
   "cell_type": "markdown",
   "id": "4ddcce64",
   "metadata": {},
   "source": [
    "Percentage of households owning a computer by **census tracts**"
   ]
  },
  {
   "cell_type": "code",
   "execution_count": 17,
   "id": "31481bfd",
   "metadata": {},
   "outputs": [
    {
     "data": {
      "text/plain": [
       "<AxesSubplot:>"
      ]
     },
     "execution_count": 17,
     "metadata": {},
     "output_type": "execute_result"
    },
    {
     "data": {
      "image/png": "[encoded data removed]",
      "text/plain": [
       "<Figure size 432x288 with 1 Axes>"
      ]
     },
     "metadata": {
      "needs_background": "light"
     },
     "output_type": "display_data"
    }
   ],
   "source": [
    "computer_gdf.plot(column='Percent',cmap='Blues')"
   ]
  },
  {
   "cell_type": "markdown",
   "id": "87d77135",
   "metadata": {},
   "source": [
    "Percentage of households with NO broadband by **census tracts**"
   ]
  },
  {
   "cell_type": "code",
   "execution_count": 18,
   "id": "1822b083",
   "metadata": {},
   "outputs": [
    {
     "data": {
      "text/plain": [
       "<AxesSubplot:>"
      ]
     },
     "execution_count": 18,
     "metadata": {},
     "output_type": "execute_result"
    },
    {
     "data": {
      "image/png": "[encoded data removed]",
      "text/plain": [
       "<Figure size 432x288 with 1 Axes>"
      ]
     },
     "metadata": {
      "needs_background": "light"
     },
     "output_type": "display_data"
    }
   ],
   "source": [
    "broadband_gdf.plot(column='Percent No Broadband',cmap='Blues')"
   ]
  },
  {
   "cell_type": "markdown",
   "id": "fbceff39",
   "metadata": {},
   "source": [
    "Unemployment Rate by **zip codes**"
   ]
  },
  {
   "cell_type": "code",
   "execution_count": 19,
   "id": "742f9c74",
   "metadata": {},
   "outputs": [
    {
     "data": {
      "text/plain": [
       "<AxesSubplot:>"
      ]
     },
     "execution_count": 19,
     "metadata": {},
     "output_type": "execute_result"
    },
    {
     "data": {
      "image/png": "[encoded data removed]",
      "text/plain": [
       "<Figure size 432x288 with 1 Axes>"
      ]
     },
     "metadata": {
      "needs_background": "light"
     },
     "output_type": "display_data"
    }
   ],
   "source": [
    "unemploy_gdf.plot(column='Unemployment rate (%)',cmap='Blues')"
   ]
  },
  {
   "cell_type": "code",
   "execution_count": 20,
   "id": "e6daf18a",
   "metadata": {
    "scrolled": true
   },
   "outputs": [
    {
     "data": {
      "text/plain": [
       "<AxesSubplot:>"
      ]
     },
     "execution_count": 20,
     "metadata": {},
     "output_type": "execute_result"
    },
    {
     "data": {
      "image/png": "[encoded data removed]",
      "text/plain": [
       "<Figure size 432x288 with 1 Axes>"
      ]
     },
     "metadata": {
      "needs_background": "light"
     },
     "output_type": "display_data"
    }
   ],
   "source": [
    "unemploy_gdf.plot()"
   ]
  },
  {
   "cell_type": "markdown",
   "id": "82d15d70",
   "metadata": {},
   "source": [
    "### [9.](#Table-of-Contents) Analysis"
   ]
  },
  {
   "cell_type": "code",
   "execution_count": 25,
   "id": "b1bdfad3",
   "metadata": {},
   "outputs": [],
   "source": [
    "computer_sedf = arcgis.features.GeoAccessor.from_geodataframe(computer_gdf)\n",
    "computer_fl = computer_sedf.spatial.to_featurelayer(title='computer_fl', gis=gis)"
   ]
  },
  {
   "cell_type": "code",
   "execution_count": 26,
   "id": "576d1a66",
   "metadata": {},
   "outputs": [],
   "source": [
    "broadband_sedf = arcgis.features.GeoAccessor.from_geodataframe(broadband_gdf)\n",
    "broadband_fl = broadband_sedf.spatial.to_featurelayer(title='broadband_fl', gis=gis)"
   ]
  },
  {
   "cell_type": "code",
   "execution_count": 27,
   "id": "94a22771",
   "metadata": {},
   "outputs": [],
   "source": [
    "unemploy_sedf = arcgis.features.GeoAccessor.from_geodataframe(unemploy_gdf)\n",
    "unemploy_fl = unemploy_sedf.spatial.to_featurelayer(title='unemployment_fl', gis=gis)"
   ]
  },
  {
   "cell_type": "code",
   "execution_count": 44,
   "id": "cb76f7fe",
   "metadata": {},
   "outputs": [
    {
     "name": "stderr",
     "output_type": "stream",
     "text": [
      "{\"cost\": 0.825}\n"
     ]
    }
   ],
   "source": [
    "computer_unemploy = arcgis.features.analysis.summarize_within(sum_within_layer = unemploy_fl, \n",
    "                                                       summary_layer = computer_fl,\n",
    "                                                       summary_fields = ['Estimate Sum','Households Sum'],\n",
    "                                                       sum_shape = True,\n",
    "                                                       output_name = 'computer ownership vs unemployment'\n",
    "                                                      )"
   ]
  },
  {
   "cell_type": "code",
   "execution_count": 62,
   "id": "80a9cbb6",
   "metadata": {},
   "outputs": [
    {
     "data": {
      "text/html": [
       "<div>\n",
       "<style scoped>\n",
       "    .dataframe tbody tr th:only-of-type {\n",
       "        vertical-align: middle;\n",
       "    }\n",
       "\n",
       "    .dataframe tbody tr th {\n",
       "        vertical-align: top;\n",
       "    }\n",
       "\n",
       "    .dataframe thead th {\n",
       "        text-align: right;\n",
       "    }\n",
       "</style>\n",
       "<table border=\"1\" class=\"dataframe\">\n",
       "  <thead>\n",
       "    <tr style=\"text-align: right;\">\n",
       "      <th></th>\n",
       "      <th>OBJECTID</th>\n",
       "      <th>COMMUNITY</th>\n",
       "      <th>ZIP</th>\n",
       "      <th>Unemployme</th>\n",
       "      <th>sum_Estimate</th>\n",
       "      <th>sum_Households</th>\n",
       "      <th>sum_Area_SquareMiles</th>\n",
       "      <th>Polygon_Count</th>\n",
       "      <th>AnalysisArea</th>\n",
       "      <th>SHAPE</th>\n",
       "      <th>mean_computer</th>\n",
       "    </tr>\n",
       "  </thead>\n",
       "  <tbody>\n",
       "    <tr>\n",
       "      <th>0</th>\n",
       "      <td>1</td>\n",
       "      <td>North Park</td>\n",
       "      <td>92104.0</td>\n",
       "      <td>2.75</td>\n",
       "      <td>21740.372507</td>\n",
       "      <td>22695.066692</td>\n",
       "      <td>3.317126</td>\n",
       "      <td>20</td>\n",
       "      <td>3.317126</td>\n",
       "      <td>{\"rings\": [[[-13040385.5307, 3863123.9102], [-...</td>\n",
       "      <td>0.957934</td>\n",
       "    </tr>\n",
       "    <tr>\n",
       "      <th>1</th>\n",
       "      <td>2</td>\n",
       "      <td>Paradise Hills</td>\n",
       "      <td>92139.0</td>\n",
       "      <td>4.76</td>\n",
       "      <td>9516.611953</td>\n",
       "      <td>9941.170381</td>\n",
       "      <td>3.554613</td>\n",
       "      <td>16</td>\n",
       "      <td>3.554613</td>\n",
       "      <td>{\"rings\": [[[-13026788.4016, 3854060.2052], [-...</td>\n",
       "      <td>0.957293</td>\n",
       "    </tr>\n",
       "    <tr>\n",
       "      <th>2</th>\n",
       "      <td>3</td>\n",
       "      <td>Solana Beach</td>\n",
       "      <td>92075.0</td>\n",
       "      <td>2.38</td>\n",
       "      <td>3735.877031</td>\n",
       "      <td>3740.442789</td>\n",
       "      <td>2.965055</td>\n",
       "      <td>7</td>\n",
       "      <td>2.965055</td>\n",
       "      <td>{\"rings\": [[[-13053262.3055, 3896289.6733], [-...</td>\n",
       "      <td>0.998779</td>\n",
       "    </tr>\n",
       "    <tr>\n",
       "      <th>3</th>\n",
       "      <td>4</td>\n",
       "      <td>San Ysidro</td>\n",
       "      <td>92173.0</td>\n",
       "      <td>6.72</td>\n",
       "      <td>7144.606978</td>\n",
       "      <td>7810.99635</td>\n",
       "      <td>3.956762</td>\n",
       "      <td>11</td>\n",
       "      <td>3.958537</td>\n",
       "      <td>{\"rings\": [[[-13031627.5313, 3838249.0593], [-...</td>\n",
       "      <td>0.914686</td>\n",
       "    </tr>\n",
       "    <tr>\n",
       "      <th>4</th>\n",
       "      <td>5</td>\n",
       "      <td>University City</td>\n",
       "      <td>92122.0</td>\n",
       "      <td>2.81</td>\n",
       "      <td>18783.250525</td>\n",
       "      <td>19438.894909</td>\n",
       "      <td>5.323053</td>\n",
       "      <td>21</td>\n",
       "      <td>5.323053</td>\n",
       "      <td>{\"rings\": [[[-13046244.7091, 3878235.2835], [-...</td>\n",
       "      <td>0.966272</td>\n",
       "    </tr>\n",
       "  </tbody>\n",
       "</table>\n",
       "</div>"
      ],
      "text/plain": [
       "   OBJECTID        COMMUNITY      ZIP  Unemployme  sum_Estimate  \\\n",
       "0         1       North Park  92104.0        2.75  21740.372507   \n",
       "1         2   Paradise Hills  92139.0        4.76   9516.611953   \n",
       "2         3     Solana Beach  92075.0        2.38   3735.877031   \n",
       "3         4       San Ysidro  92173.0        6.72   7144.606978   \n",
       "4         5  University City  92122.0        2.81  18783.250525   \n",
       "\n",
       "   sum_Households  sum_Area_SquareMiles  Polygon_Count  AnalysisArea  \\\n",
       "0    22695.066692              3.317126             20      3.317126   \n",
       "1     9941.170381              3.554613             16      3.554613   \n",
       "2     3740.442789              2.965055              7      2.965055   \n",
       "3      7810.99635              3.956762             11      3.958537   \n",
       "4    19438.894909              5.323053             21      5.323053   \n",
       "\n",
       "                                               SHAPE  mean_computer  \n",
       "0  {\"rings\": [[[-13040385.5307, 3863123.9102], [-...       0.957934  \n",
       "1  {\"rings\": [[[-13026788.4016, 3854060.2052], [-...       0.957293  \n",
       "2  {\"rings\": [[[-13053262.3055, 3896289.6733], [-...       0.998779  \n",
       "3  {\"rings\": [[[-13031627.5313, 3838249.0593], [-...       0.914686  \n",
       "4  {\"rings\": [[[-13046244.7091, 3878235.2835], [-...       0.966272  "
      ]
     },
     "execution_count": 62,
     "metadata": {},
     "output_type": "execute_result"
    }
   ],
   "source": [
    "computer_unemploy_sedf = computer_unemploy.layers[0].query().sdf\n",
    "computer_unemploy_sedf['mean_computer'] = computer_unemploy_sedf['sum_Estimate'] / computer_unemploy_sedf['sum_Households']\n",
    "computer_unemploy_sedf.head()"
   ]
  },
  {
   "cell_type": "code",
   "execution_count": 63,
   "id": "bdf83018",
   "metadata": {},
   "outputs": [
    {
     "data": {
      "application/vnd.jupyter.widget-view+json": {
       "model_id": "cee894a57112428199de0c1821bde819",
       "version_major": 2,
       "version_minor": 0
      },
      "text/plain": [
       "MapView(layout=Layout(height='400px', width='100%'))"
      ]
     },
     "metadata": {},
     "output_type": "display_data"
    },
    {
     "data": {
      "text/html": [
       "<div class=\"map-static-img-preview-bc577db1-96a8-43a1-b5ee-03b30c7ea7eb\"><img src=\"\"></img></div>"
      ],
      "text/plain": [
       "<IPython.core.display.HTML object>"
      ]
     },
     "metadata": {},
     "output_type": "display_data"
    },
    {
     "data": {
      "text/html": [
       "<div class=\"map-html-embed-preview-bc577db1-96a8-43a1-b5ee-03b30c7ea7eb\"></div>"
      ],
      "text/plain": [
       "<IPython.core.display.HTML object>"
      ]
     },
     "metadata": {},
     "output_type": "display_data"
    }
   ],
   "source": [
    "computer_unemploy_sedf.spatial.plot(\n",
    "#     map_widget=map1,\n",
    "    renderer_type='c',\n",
    "    col='mean_computer',\n",
    "    class_count=10,\n",
    "    cmap='Blues',\n",
    "    line_width=1)"
   ]
  },
  {
   "cell_type": "code",
   "execution_count": null,
   "id": "7e50b85f",
   "metadata": {},
   "outputs": [],
   "source": []
  },
  {
   "cell_type": "code",
   "execution_count": 64,
   "id": "3d275172",
   "metadata": {},
   "outputs": [
    {
     "name": "stderr",
     "output_type": "stream",
     "text": [
      "{\"cost\": 0.818}\n"
     ]
    }
   ],
   "source": [
    "broadband_unemploy = arcgis.features.analysis.summarize_within(sum_within_layer = unemploy_fl, \n",
    "                                                       summary_layer = broadband_fl,\n",
    "                                                       summary_fields = ['Total_Popu Sum','Households Sum'],\n",
    "                                                       sum_shape = True,\n",
    "                                                       output_name = 'broadband access vs unemployment'\n",
    "                                                      )"
   ]
  },
  {
   "cell_type": "code",
   "execution_count": 69,
   "id": "575045c5",
   "metadata": {},
   "outputs": [
    {
     "data": {
      "text/html": [
       "<div>\n",
       "<style scoped>\n",
       "    .dataframe tbody tr th:only-of-type {\n",
       "        vertical-align: middle;\n",
       "    }\n",
       "\n",
       "    .dataframe tbody tr th {\n",
       "        vertical-align: top;\n",
       "    }\n",
       "\n",
       "    .dataframe thead th {\n",
       "        text-align: right;\n",
       "    }\n",
       "</style>\n",
       "<table border=\"1\" class=\"dataframe\">\n",
       "  <thead>\n",
       "    <tr style=\"text-align: right;\">\n",
       "      <th></th>\n",
       "      <th>OBJECTID</th>\n",
       "      <th>COMMUNITY</th>\n",
       "      <th>ZIP</th>\n",
       "      <th>Unemployme</th>\n",
       "      <th>sum_Total_Popu</th>\n",
       "      <th>sum_Households</th>\n",
       "      <th>sum_Area_SquareMiles</th>\n",
       "      <th>Polygon_Count</th>\n",
       "      <th>AnalysisArea</th>\n",
       "      <th>SHAPE</th>\n",
       "      <th>mean_broadband</th>\n",
       "    </tr>\n",
       "  </thead>\n",
       "  <tbody>\n",
       "    <tr>\n",
       "      <th>0</th>\n",
       "      <td>1</td>\n",
       "      <td>North Park</td>\n",
       "      <td>92104.0</td>\n",
       "      <td>2.75</td>\n",
       "      <td>46963.412609</td>\n",
       "      <td>1753.84148</td>\n",
       "      <td>3.317126</td>\n",
       "      <td>20</td>\n",
       "      <td>3.317126</td>\n",
       "      <td>{\"rings\": [[[-13040385.5307, 3863123.9102], [-...</td>\n",
       "      <td>0.962655</td>\n",
       "    </tr>\n",
       "    <tr>\n",
       "      <th>1</th>\n",
       "      <td>2</td>\n",
       "      <td>Paradise Hills</td>\n",
       "      <td>92139.0</td>\n",
       "      <td>4.76</td>\n",
       "      <td>35546.741057</td>\n",
       "      <td>901.211245</td>\n",
       "      <td>3.554613</td>\n",
       "      <td>13</td>\n",
       "      <td>3.554613</td>\n",
       "      <td>{\"rings\": [[[-13026788.4016, 3854060.2052], [-...</td>\n",
       "      <td>0.974647</td>\n",
       "    </tr>\n",
       "    <tr>\n",
       "      <th>2</th>\n",
       "      <td>3</td>\n",
       "      <td>Solana Beach</td>\n",
       "      <td>92075.0</td>\n",
       "      <td>2.38</td>\n",
       "      <td>9629.626215</td>\n",
       "      <td>108.576552</td>\n",
       "      <td>2.965055</td>\n",
       "      <td>7</td>\n",
       "      <td>2.965055</td>\n",
       "      <td>{\"rings\": [[[-13053262.3055, 3896289.6733], [-...</td>\n",
       "      <td>0.988725</td>\n",
       "    </tr>\n",
       "    <tr>\n",
       "      <th>3</th>\n",
       "      <td>4</td>\n",
       "      <td>San Ysidro</td>\n",
       "      <td>92173.0</td>\n",
       "      <td>6.72</td>\n",
       "      <td>29828.748368</td>\n",
       "      <td>1604.324407</td>\n",
       "      <td>3.956127</td>\n",
       "      <td>11</td>\n",
       "      <td>3.958537</td>\n",
       "      <td>{\"rings\": [[[-13031627.5313, 3838249.0593], [-...</td>\n",
       "      <td>0.946215</td>\n",
       "    </tr>\n",
       "    <tr>\n",
       "      <th>4</th>\n",
       "      <td>5</td>\n",
       "      <td>University City</td>\n",
       "      <td>92122.0</td>\n",
       "      <td>2.81</td>\n",
       "      <td>47616.78627</td>\n",
       "      <td>855.322707</td>\n",
       "      <td>5.323053</td>\n",
       "      <td>18</td>\n",
       "      <td>5.323053</td>\n",
       "      <td>{\"rings\": [[[-13046244.7091, 3878235.2835], [-...</td>\n",
       "      <td>0.982037</td>\n",
       "    </tr>\n",
       "  </tbody>\n",
       "</table>\n",
       "</div>"
      ],
      "text/plain": [
       "   OBJECTID        COMMUNITY      ZIP  Unemployme  sum_Total_Popu  \\\n",
       "0         1       North Park  92104.0        2.75    46963.412609   \n",
       "1         2   Paradise Hills  92139.0        4.76    35546.741057   \n",
       "2         3     Solana Beach  92075.0        2.38     9629.626215   \n",
       "3         4       San Ysidro  92173.0        6.72    29828.748368   \n",
       "4         5  University City  92122.0        2.81     47616.78627   \n",
       "\n",
       "   sum_Households  sum_Area_SquareMiles  Polygon_Count  AnalysisArea  \\\n",
       "0      1753.84148              3.317126             20      3.317126   \n",
       "1      901.211245              3.554613             13      3.554613   \n",
       "2      108.576552              2.965055              7      2.965055   \n",
       "3     1604.324407              3.956127             11      3.958537   \n",
       "4      855.322707              5.323053             18      5.323053   \n",
       "\n",
       "                                               SHAPE  mean_broadband  \n",
       "0  {\"rings\": [[[-13040385.5307, 3863123.9102], [-...        0.962655  \n",
       "1  {\"rings\": [[[-13026788.4016, 3854060.2052], [-...        0.974647  \n",
       "2  {\"rings\": [[[-13053262.3055, 3896289.6733], [-...        0.988725  \n",
       "3  {\"rings\": [[[-13031627.5313, 3838249.0593], [-...        0.946215  \n",
       "4  {\"rings\": [[[-13046244.7091, 3878235.2835], [-...        0.982037  "
      ]
     },
     "execution_count": 69,
     "metadata": {},
     "output_type": "execute_result"
    }
   ],
   "source": [
    "broadband_unemploy_sedf = broadband_unemploy.layers[0].query().sdf\n",
    "broadband_unemploy_sedf['mean_broadband'] = 1-broadband_unemploy_sedf['sum_Households'] / broadband_unemploy_sedf['sum_Total_Popu']\n",
    "broadband_unemploy_sedf.head()"
   ]
  },
  {
   "cell_type": "code",
   "execution_count": 70,
   "id": "f967e576",
   "metadata": {},
   "outputs": [
    {
     "data": {
      "application/vnd.jupyter.widget-view+json": {
       "model_id": "22be636c27f54a84a2312e7b06e3ef31",
       "version_major": 2,
       "version_minor": 0
      },
      "text/plain": [
       "MapView(layout=Layout(height='400px', width='100%'))"
      ]
     },
     "metadata": {},
     "output_type": "display_data"
    },
    {
     "data": {
      "text/html": [
       "<div class=\"map-static-img-preview-10120e00-4b99-459c-a8c7-2677974e499e\"><img src=\"\"></img></div>"
      ],
      "text/plain": [
       "<IPython.core.display.HTML object>"
      ]
     },
     "metadata": {},
     "output_type": "display_data"
    },
    {
     "data": {
      "text/html": [
       "<div class=\"map-html-embed-preview-10120e00-4b99-459c-a8c7-2677974e499e\"></div>"
      ],
      "text/plain": [
       "<IPython.core.display.HTML object>"
      ]
     },
     "metadata": {},
     "output_type": "display_data"
    }
   ],
   "source": [
    "broadband_unemploy_sedf.spatial.plot(\n",
    "#     map_widget=map1,\n",
    "    renderer_type='c',\n",
    "    col='mean_broadband',\n",
    "    class_count=10,\n",
    "    cmap='Blues',\n",
    "    line_width=1)"
   ]
  },
  {
   "cell_type": "code",
   "execution_count": null,
   "id": "85096c3a",
   "metadata": {},
   "outputs": [],
   "source": [
    "# computer_unempl = arcgis.features.analysis.summarize_within(sum_within_layer = unempl_fl, \n",
    "#                                                        summary_layer = computer_fl,\n",
    "#                                                        summary_fields = ['Percent_ Mean'],\n",
    "#                                                        sum_shape = True,\n",
    "# #                                                        output_name = 'COVID-19 Case Rates by MGRA Final'\n",
    "#                                                       )"
   ]
  },
  {
   "cell_type": "markdown",
   "id": "090f1a97",
   "metadata": {},
   "source": [
    "### [10.](#Table-of-Contents) Summary of products and results"
   ]
  },
  {
   "cell_type": "code",
   "execution_count": 119,
   "id": "0fdf2e74",
   "metadata": {},
   "outputs": [
    {
     "data": {
      "text/html": [
       "<div>\n",
       "<style scoped>\n",
       "    .dataframe tbody tr th:only-of-type {\n",
       "        vertical-align: middle;\n",
       "    }\n",
       "\n",
       "    .dataframe tbody tr th {\n",
       "        vertical-align: top;\n",
       "    }\n",
       "\n",
       "    .dataframe thead th {\n",
       "        text-align: right;\n",
       "    }\n",
       "</style>\n",
       "<table border=\"1\" class=\"dataframe\">\n",
       "  <thead>\n",
       "    <tr style=\"text-align: right;\">\n",
       "      <th></th>\n",
       "      <th>ZIP</th>\n",
       "      <th>Unemployme</th>\n",
       "      <th>mean_computer</th>\n",
       "      <th>mean_broadband</th>\n",
       "    </tr>\n",
       "  </thead>\n",
       "  <tbody>\n",
       "    <tr>\n",
       "      <th>0</th>\n",
       "      <td>92104.0</td>\n",
       "      <td>2.75</td>\n",
       "      <td>95.793385</td>\n",
       "      <td>96.265515</td>\n",
       "    </tr>\n",
       "    <tr>\n",
       "      <th>1</th>\n",
       "      <td>92139.0</td>\n",
       "      <td>4.76</td>\n",
       "      <td>95.729291</td>\n",
       "      <td>97.464715</td>\n",
       "    </tr>\n",
       "    <tr>\n",
       "      <th>2</th>\n",
       "      <td>92075.0</td>\n",
       "      <td>2.38</td>\n",
       "      <td>99.877935</td>\n",
       "      <td>98.872474</td>\n",
       "    </tr>\n",
       "    <tr>\n",
       "      <th>3</th>\n",
       "      <td>92173.0</td>\n",
       "      <td>6.72</td>\n",
       "      <td>91.468574</td>\n",
       "      <td>94.62155</td>\n",
       "    </tr>\n",
       "    <tr>\n",
       "      <th>4</th>\n",
       "      <td>92122.0</td>\n",
       "      <td>2.81</td>\n",
       "      <td>96.627152</td>\n",
       "      <td>98.203737</td>\n",
       "    </tr>\n",
       "  </tbody>\n",
       "</table>\n",
       "</div>"
      ],
      "text/plain": [
       "       ZIP  Unemployme  mean_computer  mean_broadband\n",
       "0  92104.0        2.75      95.793385       96.265515\n",
       "1  92139.0        4.76      95.729291       97.464715\n",
       "2  92075.0        2.38      99.877935       98.872474\n",
       "3  92173.0        6.72      91.468574        94.62155\n",
       "4  92122.0        2.81      96.627152       98.203737"
      ]
     },
     "execution_count": 119,
     "metadata": {},
     "output_type": "execute_result"
    }
   ],
   "source": [
    "left = computer_unemploy_sedf[['ZIP', 'Unemployme', 'mean_computer']]\n",
    "right = broadband_unemploy_sedf[['ZIP','mean_broadband']]\n",
    "ml_df = pd.merge(left,right, on='ZIP')\n",
    "ml_df['mean_computer'] = ml_df['mean_computer']*100\n",
    "ml_df['mean_broadband'] = ml_df['mean_broadband']*100\n",
    "ml_df.head()"
   ]
  },
  {
   "cell_type": "code",
   "execution_count": 118,
   "id": "cd39ef5b",
   "metadata": {},
   "outputs": [
    {
     "data": {
      "text/html": [
       "<div>\n",
       "<style scoped>\n",
       "    .dataframe tbody tr th:only-of-type {\n",
       "        vertical-align: middle;\n",
       "    }\n",
       "\n",
       "    .dataframe tbody tr th {\n",
       "        vertical-align: top;\n",
       "    }\n",
       "\n",
       "    .dataframe thead th {\n",
       "        text-align: right;\n",
       "    }\n",
       "</style>\n",
       "<table border=\"1\" class=\"dataframe\">\n",
       "  <thead>\n",
       "    <tr style=\"text-align: right;\">\n",
       "      <th></th>\n",
       "      <th>ZIP</th>\n",
       "      <th>Unemployme</th>\n",
       "      <th>mean_computer</th>\n",
       "      <th>mean_broadband_x</th>\n",
       "      <th>mean_broadband_y</th>\n",
       "    </tr>\n",
       "  </thead>\n",
       "  <tbody>\n",
       "    <tr>\n",
       "      <th>0</th>\n",
       "      <td>92104.0</td>\n",
       "      <td>2.75</td>\n",
       "      <td>95.793385</td>\n",
       "      <td>9579.338454</td>\n",
       "      <td>0.962655</td>\n",
       "    </tr>\n",
       "    <tr>\n",
       "      <th>1</th>\n",
       "      <td>92139.0</td>\n",
       "      <td>4.76</td>\n",
       "      <td>95.729291</td>\n",
       "      <td>9572.929131</td>\n",
       "      <td>0.974647</td>\n",
       "    </tr>\n",
       "    <tr>\n",
       "      <th>2</th>\n",
       "      <td>92075.0</td>\n",
       "      <td>2.38</td>\n",
       "      <td>99.877935</td>\n",
       "      <td>9987.793538</td>\n",
       "      <td>0.988725</td>\n",
       "    </tr>\n",
       "    <tr>\n",
       "      <th>3</th>\n",
       "      <td>92173.0</td>\n",
       "      <td>6.72</td>\n",
       "      <td>91.468574</td>\n",
       "      <td>9146.857402</td>\n",
       "      <td>0.946215</td>\n",
       "    </tr>\n",
       "    <tr>\n",
       "      <th>4</th>\n",
       "      <td>92122.0</td>\n",
       "      <td>2.81</td>\n",
       "      <td>96.627152</td>\n",
       "      <td>9662.715197</td>\n",
       "      <td>0.982037</td>\n",
       "    </tr>\n",
       "    <tr>\n",
       "      <th>...</th>\n",
       "      <td>...</td>\n",
       "      <td>...</td>\n",
       "      <td>...</td>\n",
       "      <td>...</td>\n",
       "      <td>...</td>\n",
       "    </tr>\n",
       "    <tr>\n",
       "      <th>84</th>\n",
       "      <td>92070.0</td>\n",
       "      <td>6.56</td>\n",
       "      <td>91.811261</td>\n",
       "      <td>9181.126148</td>\n",
       "      <td>0.924974</td>\n",
       "    </tr>\n",
       "    <tr>\n",
       "      <th>85</th>\n",
       "      <td>92086.0</td>\n",
       "      <td>6.18</td>\n",
       "      <td>91.427764</td>\n",
       "      <td>9142.776428</td>\n",
       "      <td>0.929055</td>\n",
       "    </tr>\n",
       "    <tr>\n",
       "      <th>86</th>\n",
       "      <td>92028.0</td>\n",
       "      <td>3.74</td>\n",
       "      <td>95.646077</td>\n",
       "      <td>9564.607704</td>\n",
       "      <td>0.965948</td>\n",
       "    </tr>\n",
       "    <tr>\n",
       "      <th>87</th>\n",
       "      <td>92065.0</td>\n",
       "      <td>3.68</td>\n",
       "      <td>97.64123</td>\n",
       "      <td>9764.123018</td>\n",
       "      <td>0.975974</td>\n",
       "    </tr>\n",
       "    <tr>\n",
       "      <th>88</th>\n",
       "      <td>92036.0</td>\n",
       "      <td>4.72</td>\n",
       "      <td>91.7144</td>\n",
       "      <td>9171.439965</td>\n",
       "      <td>0.916042</td>\n",
       "    </tr>\n",
       "  </tbody>\n",
       "</table>\n",
       "<p>89 rows × 5 columns</p>\n",
       "</div>"
      ],
      "text/plain": [
       "        ZIP  Unemployme  mean_computer  mean_broadband_x  mean_broadband_y\n",
       "0   92104.0        2.75      95.793385       9579.338454          0.962655\n",
       "1   92139.0        4.76      95.729291       9572.929131          0.974647\n",
       "2   92075.0        2.38      99.877935       9987.793538          0.988725\n",
       "3   92173.0        6.72      91.468574       9146.857402          0.946215\n",
       "4   92122.0        2.81      96.627152       9662.715197          0.982037\n",
       "..      ...         ...            ...               ...               ...\n",
       "84  92070.0        6.56      91.811261       9181.126148          0.924974\n",
       "85  92086.0        6.18      91.427764       9142.776428          0.929055\n",
       "86  92028.0        3.74      95.646077       9564.607704          0.965948\n",
       "87  92065.0        3.68       97.64123       9764.123018          0.975974\n",
       "88  92036.0        4.72        91.7144       9171.439965          0.916042\n",
       "\n",
       "[89 rows x 5 columns]"
      ]
     },
     "execution_count": 118,
     "metadata": {},
     "output_type": "execute_result"
    }
   ],
   "source": [
    "ml_df"
   ]
  },
  {
   "cell_type": "code",
   "execution_count": 104,
   "id": "11bcb88b",
   "metadata": {},
   "outputs": [],
   "source": [
    "# assign dependent variable X and independent variable y\n",
    "X = ml_df[['mean_computer','mean_broadband']]\n",
    "y = ml_df[['Unemployme']]"
   ]
  },
  {
   "cell_type": "code",
   "execution_count": 105,
   "id": "675c618b",
   "metadata": {},
   "outputs": [],
   "source": [
    "X_train, X_test, y_train, y_test = train_test_split(X, y, test_size=0.2, random_state=42)\n",
    "# create the model and fit\n",
    "reg = LinearRegression()\n",
    "reg.fit(X_train, y_train)\n",
    "y_pred = reg.predict(X_test)"
   ]
  },
  {
   "cell_type": "code",
   "execution_count": 106,
   "id": "d1518737",
   "metadata": {},
   "outputs": [
    {
     "data": {
      "text/plain": [
       "0.7411769560880163"
      ]
     },
     "execution_count": 106,
     "metadata": {},
     "output_type": "execute_result"
    }
   ],
   "source": [
    "mean_squared_error(y_pred, y_test)"
   ]
  },
  {
   "cell_type": "code",
   "execution_count": 107,
   "id": "0a51cb1b",
   "metadata": {},
   "outputs": [
    {
     "data": {
      "text/plain": [
       "array([[-0.17771686, -0.0745381 ]])"
      ]
     },
     "execution_count": 107,
     "metadata": {},
     "output_type": "execute_result"
    }
   ],
   "source": [
    "reg.coef_"
   ]
  },
  {
   "cell_type": "code",
   "execution_count": 103,
   "id": "fefd25ec",
   "metadata": {},
   "outputs": [
    {
     "data": {
      "text/html": [
       "<div>\n",
       "<style scoped>\n",
       "    .dataframe tbody tr th:only-of-type {\n",
       "        vertical-align: middle;\n",
       "    }\n",
       "\n",
       "    .dataframe tbody tr th {\n",
       "        vertical-align: top;\n",
       "    }\n",
       "\n",
       "    .dataframe thead th {\n",
       "        text-align: right;\n",
       "    }\n",
       "</style>\n",
       "<table border=\"1\" class=\"dataframe\">\n",
       "  <thead>\n",
       "    <tr style=\"text-align: right;\">\n",
       "      <th></th>\n",
       "      <th>ZIP</th>\n",
       "      <th>Unemployme</th>\n",
       "      <th>mean_computer</th>\n",
       "      <th>mean_broadband</th>\n",
       "    </tr>\n",
       "  </thead>\n",
       "  <tbody>\n",
       "    <tr>\n",
       "      <th>0</th>\n",
       "      <td>92104.0</td>\n",
       "      <td>2.75</td>\n",
       "      <td>0.957934</td>\n",
       "      <td>0.962655</td>\n",
       "    </tr>\n",
       "    <tr>\n",
       "      <th>1</th>\n",
       "      <td>92139.0</td>\n",
       "      <td>4.76</td>\n",
       "      <td>0.957293</td>\n",
       "      <td>0.974647</td>\n",
       "    </tr>\n",
       "    <tr>\n",
       "      <th>2</th>\n",
       "      <td>92075.0</td>\n",
       "      <td>2.38</td>\n",
       "      <td>0.998779</td>\n",
       "      <td>0.988725</td>\n",
       "    </tr>\n",
       "    <tr>\n",
       "      <th>3</th>\n",
       "      <td>92173.0</td>\n",
       "      <td>6.72</td>\n",
       "      <td>0.914686</td>\n",
       "      <td>0.946215</td>\n",
       "    </tr>\n",
       "    <tr>\n",
       "      <th>4</th>\n",
       "      <td>92122.0</td>\n",
       "      <td>2.81</td>\n",
       "      <td>0.966272</td>\n",
       "      <td>0.982037</td>\n",
       "    </tr>\n",
       "  </tbody>\n",
       "</table>\n",
       "</div>"
      ],
      "text/plain": [
       "       ZIP  Unemployme  mean_computer  mean_broadband\n",
       "0  92104.0        2.75       0.957934        0.962655\n",
       "1  92139.0        4.76       0.957293        0.974647\n",
       "2  92075.0        2.38       0.998779        0.988725\n",
       "3  92173.0        6.72       0.914686        0.946215\n",
       "4  92122.0        2.81       0.966272        0.982037"
      ]
     },
     "execution_count": 103,
     "metadata": {},
     "output_type": "execute_result"
    }
   ],
   "source": [
    "ml_df.head()"
   ]
  },
  {
   "cell_type": "markdown",
   "id": "324d6b80",
   "metadata": {},
   "source": [
    "### [11.](#Table-of-Contents) Discussion "
   ]
  },
  {
   "cell_type": "markdown",
   "id": "8c3ddd9a",
   "metadata": {},
   "source": [
    "### [12.](#Table-of-Contents) Conclusions and future work"
   ]
  },
  {
   "cell_type": "markdown",
   "id": "03e9d807",
   "metadata": {},
   "source": [
    "##### Citations \n",
    "- https://www.latimes.com/california/story/2023-02-07/downtown-homeless-population-reaches-another-high\n",
    "- https://coronadotimes.com/news/2023/08/29/is-addiction-driving-the-homeless-epidemic-in-san-diego-2/#:~:text=Lack%20of%20Income&text=This%20report%20showed%20that%20six,desperately%20to%20make%20ends%20meet."
   ]
  }
 ],
 "metadata": {
  "kernelspec": {
   "display_name": "Python 3 (ipykernel)",
   "language": "python",
   "name": "python3"
  },
  "language_info": {
   "codemirror_mode": {
    "name": "ipython",
    "version": 3
   },
   "file_extension": ".py",
   "mimetype": "text/x-python",
   "name": "python",
   "nbconvert_exporter": "python",
   "pygments_lexer": "ipython3",
   "version": "3.9.5"
  }
 },
 "nbformat": 4,
 "nbformat_minor": 5
}
