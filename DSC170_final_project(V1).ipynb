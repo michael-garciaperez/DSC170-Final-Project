{
 "cells": [
  {
   "cell_type": "markdown",
   "id": "e3271e3d",
   "metadata": {},
   "source": [
    "### Table of Contents\n",
    "To return to the table of contents, click on the number at any major section heading."
   ]
  },
  {
   "cell_type": "markdown",
   "id": "2adaa244",
   "metadata": {},
   "source": [
    "[1. Project Title](#1.-Project-Title)\n",
    "\n",
    "[2. Team members](#2.-Team-members)\n",
    "\n",
    "[3. Question(s) you addressed, why it is important](#3.-Question(s)-you-addressed,-why-it-is-important)\n",
    "\n",
    "[4. Background and literature](#4.-Background-and-literature)\n",
    "\n",
    "[5. Python packages you used and why](#5.-Python-packages-you-used-and-why)\n",
    "\n",
    "[6. Data sources](#6.-Data-sources)\n",
    "\n",
    "[7. Data cleaning you have done](#7.-Data-cleaning-you-have-done)\n",
    "\n",
    "[8. Descriptive statistics for the data](#8.-Descriptive-statistics-for-the-data)\n",
    "\n",
    "[9. Analysis](#9.-Analysis)\n",
    "\n",
    "[10. Summary of products and results](#10.-Summary-of-products-and-results)\n",
    "\n",
    "[11. Discussion](#11.-Discussion)\n",
    "\n",
    "[12. Conclusions and future work](#12.-Conclusions-and-future-work)"
   ]
  },
  {
   "cell_type": "markdown",
   "id": "9e7f6569",
   "metadata": {},
   "source": [
    "### [1.](#Table-of-Contents) Project Title"
   ]
  },
  {
   "cell_type": "markdown",
   "id": "839f5f52",
   "metadata": {},
   "source": [
    "Exploring the Impact of Computer Ownership on Unemployment in San Diego, CA"
   ]
  },
  {
   "cell_type": "markdown",
   "id": "c1a64b39",
   "metadata": {},
   "source": [
    "### [2.](#Table-of-Contents) Team members"
   ]
  },
  {
   "cell_type": "markdown",
   "id": "9043f3b0",
   "metadata": {},
   "source": [
    "By: Michael Garcia-Perez (A16366187) & Haoyu Fu (A16633278)"
   ]
  },
  {
   "cell_type": "markdown",
   "id": "a7a544f9",
   "metadata": {},
   "source": [
    "### [3.](#Table-of-Contents) Question(s) you addressed, why it is important"
   ]
  },
  {
   "cell_type": "markdown",
   "id": "c4bb32a1",
   "metadata": {},
   "source": [
    "We aim to delve deeper into the relationship between computer ownership and unemployment in San Diego, California, while also considering additional factors if time allows. The primary audience for our research includes political officials and policymakers in San Diego. This focus is particularly relevant because if a significant relationship exists between computer ownership and unemployment, it suggests that enhancing citizens' access to such equipment could contribute to boosting the employment rate.\n",
    "\n",
    "San Diego, CA, is a thriving city; however, homelessness has become a growing concern among residents, evident in headlines such as \"Downtown San Diego homeless population reaches record high for the sixth month in a row\" (Warth, LA Times). Homelessness stems from various causes, including a lack of affordable housing, poverty, and unemployment. Despite common misconceptions associating homelessness with mental health issues, a comprehensive survey revealed that poverty is the primary culprit (The Coronado Times). The cost of living in San Diego is a driving factor, but so is \"inadequate employment,\" such as the \"inability to find gainful employment...\" (The Coronado Times). Hence, homelessness can be linked to unemployment, prompting us to explore additional relationships, including those involving computer ownership.\n",
    "\n",
    "We believe that computer ownership could significantly impact unemployment in San Diego. Initially unaware of the issue's significance, we were surprised to discover a dataset on computer ownership before starting our research. Our analysis also aims to uncover information related to the number of broadband providers per San Diego census tract, Federal Broadband Threshold compliance, income, ethnic populations, and more, if time permits, utilizing broadband data from SANDAG and visualizing through San Diego census tracts.\n",
    "\n",
    "Our expectations include identifying a strong relationship between computer ownership and unemployment rates in different San Diego census tracts. We anticipate that individuals without access to computers may face challenges in job applications, potentially leading to higher unemployment rates. Ultimately, we hope our findings offer a new perspective on the factors influencing unemployment in certain San Diego areas and provide insights for policymakers on utilizing tax money to fund initiatives promoting increased computer ownership, should it prove to positively impact the employment rate."
   ]
  },
  {
   "cell_type": "markdown",
   "id": "5a652f94",
   "metadata": {},
   "source": [
    "### [4.](#Table-of-Contents) Background and literature"
   ]
  },
  {
   "cell_type": "markdown",
   "id": "3dd1be4c",
   "metadata": {},
   "source": [
    "1. https://www.utwente.nl/en/bms/vandijk/publications/digital_divide_impact_access.pdf\n",
    "2. https://www.sciencedirect.com/science/article/pii/S0040162521007903?casa_token=8X2wFMUI1bsAAAAA:bgo7kmgL2LXDxj0fmjMEv0ZoSaLLMTQuY3WEPV1n9nHhRgdTpY7_0tUvDW77bmxlYUH9CtIP1w\n",
    "3. https://files.eric.ed.gov/fulltext/ED463391.pdf\n",
    "4. https://www.sciencedirect.com/science/article/pii/S026427512031252X?casa_token=_jvi54cy2FcAAAAA:Cmou9AI7qMpBBHCH1bAjAVWWQFe5QBN-sZGBU9tvg8mD8uGtYDfPflMQ6ILBVFjODOT8IW-PFA\n",
    "\n",
    "These references play a crucial role in providing essential background literature necessary for comprehending our topic, which involves investigating the influence of computer ownership on unemployment in San Diego. The articles explore subjects such as the digital divide and broadband access. The digital divide represents an inequality where more privileged individuals have access to digital resources like the internet, along with the skills and hardware necessary for utilizing these resources, such as laptops or phones. This reference has been instrumental in refining our focus, especially since we concentrate on computer ownership and its impact on unemployment.\n",
    "\n",
    "As highlighted in these articles, the digital divide significantly affects employment. Without computers or internet access, the process of applying for jobs or acquiring new skills becomes exceedingly challenging. Employment relies heavily on these resources, as job seekers need to submit applications, connect with recruiters, participate in interviews, respond to crucial emails, learn about job positions, and more. While libraries can help mitigate the impact of the digital divide, managing these tasks is still more challenging compared to having access to a computer and reliable internet at home. Finding a job is inherently challenging due to the competitive job market and economy, but the digital divide has evidently exacerbated these difficulties, as outlined in these articles.\n",
    "\n",
    "Another pivotal aspect from these articles that significantly influences our research is understanding broadband access. Broadband, as described in the aforementioned articles, determines your access to reliable internet. To achieve high-speed internet connections, your broadband access must facilitate the transmission of large amounts of data at fast speeds, ultimately affecting your ability to use your laptop for job searching and employment-related activities. We assert that computer ownership and broadband access are interconnected, as a computer without internet access is not useful for employment-seeking purposes. Furthermore, different census tracts in San Diego exhibit varying qualities and speeds of broadband internet, leading us to narrow our focus on a specific hypothesis. We aim to explore how these variations impact different tracts in San Diego and their effects on unemployment."
   ]
  },
  {
   "cell_type": "markdown",
   "id": "979139dd",
   "metadata": {},
   "source": [
    "### [5.](#Table-of-Contents) Python packages you used and why"
   ]
  },
  {
   "cell_type": "markdown",
   "id": "b1885552",
   "metadata": {},
   "source": [
    "Will do once we finish implementation..."
   ]
  },
  {
   "cell_type": "code",
   "execution_count": 1,
   "id": "c8017f5d",
   "metadata": {},
   "outputs": [],
   "source": [
    "# Importing necessary packages\n",
    "import numpy as np\n",
    "import pandas as pd\n",
    "import geopandas as gpd\n",
    "import matplotlib.pyplot as plt\n",
    "from shapely import wkt\n",
    "\n",
    "import warnings\n",
    "warnings.filterwarnings(\"ignore\")\n",
    "\n",
    "import arcgis\n",
    "from arcgis.gis import GIS\n",
    "\n",
    "from sklearn.preprocessing import *\n",
    "from sklearn.linear_model import *\n",
    "from sklearn.metrics import mean_squared_error\n",
    "from sklearn.model_selection import train_test_split"
   ]
  },
  {
   "cell_type": "code",
   "execution_count": 2,
   "id": "2cfc87c0",
   "metadata": {},
   "outputs": [],
   "source": [
    "gis = GIS(username='dsc170wi24_9', password='GPAAAAAA100')"
   ]
  },
  {
   "cell_type": "markdown",
   "id": "ad0eeb8a",
   "metadata": {},
   "source": [
    "### [6.](#Table-of-Contents) Data sources"
   ]
  },
  {
   "cell_type": "markdown",
   "id": "e49d254b",
   "metadata": {},
   "source": [
    "1.  https://opendata.sandag.org/Sustainable-Development-Goals/SDG-Indicator-5-b-1-Data-Computer-Ownership/tsaq-axm2/abo\n",
    "\n",
    "    - This URL provides data regarding computer ownership in San Diego. Specifically, the data includes information on the number of households with one or more types of computing devices, such as desktops, laptops, smartphones, tablets, or other portable wireless computers, and other computer types. There are no concerns related to data quality or constraints. The geographic granularity of this data is census tracts, making it ideal for use with the other data source we have identified. Our choice of sources has evolved since the proposal phase, as we considered whether to join/merge data by census tracts instead of zip codes. We decided that analyzing census tracts would yield more comprehensive results, given the greater number of census tracts in San Diego compared to zip codes. Although we cannot use the zip code data, there is still ample information available for analysis from this URL.\n",
    "    \n",
    "    \n",
    "2. https://opendata.sandag.org/stories/s/Digital-Divide-2-0-Broadband-Access-and-More/9vde-3c89/\n",
    "\n",
    "    - This URL contains data about broadband providers per census block code, including bandwidth performance/accessibility and geographic information. Specifically, this URL provides three different dataframes that we can utilize in our analysis. We aim to convert the census block code to census tracts and use the data accordingly. While there might be a need for significant data cleaning, there are no concerns related to data quality or constraints. Once again, our choices of sources have evolved, and we have decided to focus solely on data associated with census tracts instead of zip codes.\n",
    "    \n",
    "    \n",
    "3. We will be getting information about unemployment via Geoenrichment from ArcGIS"
   ]
  },
  {
   "cell_type": "code",
   "execution_count": 3,
   "id": "cefba4d2",
   "metadata": {},
   "outputs": [],
   "source": [
    "# Reading all CSV files into GeoDataFrames\n",
    "computer_ownership = gpd.read_file('SDG_Indicator_5.b.1_Data_-_Computer_Ownership_20240226.csv') # Yes census tracts\n",
    "    \n",
    "broadband2 = gpd.read_file('Digital_Divide_-_Broadband_Providers_Meeting_Federal_Threshold_20240307.csv') # Yes by census block\n",
    "broadband3 = gpd.read_file('Digital_Divide_-_Fixed_Broadband_Meets_Federal_Threshold_20240307.csv') # Yes by census block\n",
    "broadband6 = gpd.read_file('Digital_Divide_2.0_Scoring_Data_20240307.csv') # Yes by tract and geoid"
   ]
  },
  {
   "cell_type": "code",
   "execution_count": 4,
   "id": "a6eeecea",
   "metadata": {},
   "outputs": [],
   "source": [
    "# Getting unemployment data from ArcGIS contents\n",
    "unempl_content = gis.content.get('a93ad1fcf4a64580b7dbfa3758252ef0')\n",
    "unempl_tract = unempl_content.layers[2].query().sdf\n",
    "unempl_county = unempl_content.layers[1].query().sdf"
   ]
  },
  {
   "cell_type": "code",
   "execution_count": 5,
   "id": "6c634f22",
   "metadata": {},
   "outputs": [],
   "source": [
    "# Getting internet data from ArcGIS contents\n",
    "internet_content = gis.content.get('4f43b3bb1e274795b14e5da42dea95d5')\n",
    "internet_county = internet_content.layers[1].query().sdf"
   ]
  },
  {
   "cell_type": "markdown",
   "id": "80a4dc87",
   "metadata": {},
   "source": [
    "### [7.](#Table-of-Contents) Data cleaning you have done"
   ]
  },
  {
   "cell_type": "code",
   "execution_count": 6,
   "id": "e91089cc",
   "metadata": {},
   "outputs": [],
   "source": [
    "unempl_SD = unempl_tract[unempl_tract['County'] == 'San Diego County']\n",
    "unempl_SD['unemplymt'] = unempl_SD['B23025_calc_pctUnempE']\n",
    "unempl_SD = unempl_SD[['NAME','State','County','unemplymt','GEOID','SHAPE']]\n",
    "unempl_SD_content = gis.content.import_data(unempl_SD)\n",
    "unempl_SD = unempl_SD_content.layers[0].query().sdf"
   ]
  },
  {
   "cell_type": "code",
   "execution_count": 7,
   "id": "a1d39654",
   "metadata": {},
   "outputs": [],
   "source": [
    "# remove unnecessary data from Computer Ownership\n",
    "computer_pd = pd.read_csv('SDG_Indicator_5.b.1_Data_-_Computer_Ownership_20240226.csv')\n",
    "computer_pd = computer_pd[computer_pd['Geography Type']=='Tract']\n",
    "computer_pd = computer_pd.dropna(subset=['Geometry'])\n",
    "computer_pd = computer_pd.rename(columns={'Geometry':'geometry'})\n",
    "# convert data to SDF\n",
    "computer_pd['geometry'] = computer_pd['geometry'].apply(wkt.loads)\n",
    "# computer_pd['geometry'] = computer_pd['geometry'].apply(lambda x: x.centroid)\n",
    "# computer_pd['centroid'] = computer_pd['geometry'].apply(lambda x: x.centroid)\n",
    "computer_gdf = gpd.GeoDataFrame(computer_pd).set_crs('epsg:4326').to_crs('epsg:3857')\n",
    "computer_SD = pd.DataFrame.spatial.from_geodataframe(computer_gdf)\n",
    "computer_content = gis.content.import_data(computer_SD)\n",
    "computer_SD = computer_content.layers[0].query().sdf\n",
    "# computer_SD = computer_SD[['Geography Name','Households','Percent','GEOID','SHAPE']]"
   ]
  },
  {
   "cell_type": "code",
   "execution_count": 10,
   "id": "a5ca05d8",
   "metadata": {},
   "outputs": [],
   "source": [
    "# employment_centers = employment_centers.drop(columns=['geometry'])\n",
    "# computer_ownership = computer_ownership.drop(columns=['geometry'])\n",
    "# employee_resident_survey = employee_resident_survey.drop(columns=['geometry'])\n",
    "# unemployment = unemployment.drop(columns=['geometry'])\n",
    "# business_tax_certificates = business_tax_certificates.drop(columns=['geometry'])"
   ]
  },
  {
   "cell_type": "markdown",
   "id": "c5958c9e",
   "metadata": {},
   "source": [
    "### [8.](#Table-of-Contents) Descriptive statistics for the data"
   ]
  },
  {
   "cell_type": "markdown",
   "id": "4ddcce64",
   "metadata": {},
   "source": [
    "Percentage of households owning a computer in the census tract"
   ]
  },
  {
   "cell_type": "code",
   "execution_count": 11,
   "id": "e1e40287",
   "metadata": {},
   "outputs": [
    {
     "data": {
      "text/plain": [
       "count       736.0\n",
       "mean     0.959647\n",
       "std      0.106723\n",
       "min           0.0\n",
       "25%           0.9\n",
       "50%           1.0\n",
       "75%           1.0\n",
       "max           1.0\n",
       "Name: Percent_, dtype: Float64"
      ]
     },
     "execution_count": 11,
     "metadata": {},
     "output_type": "execute_result"
    }
   ],
   "source": [
    "computer_SD['Percent_'].describe()"
   ]
  },
  {
   "cell_type": "code",
   "execution_count": 12,
   "id": "2001c64d",
   "metadata": {},
   "outputs": [
    {
     "data": {
      "text/plain": [
       "1.0    516\n",
       "0.9    200\n",
       "0.8     12\n",
       "0.0      7\n",
       "0.7      1\n",
       "Name: Percent_, dtype: Int64"
      ]
     },
     "execution_count": 12,
     "metadata": {},
     "output_type": "execute_result"
    }
   ],
   "source": [
    "# notice that there are a few census tracts with 0 computer owner\n",
    "computer_SD['Percent_'].value_counts()"
   ]
  },
  {
   "cell_type": "code",
   "execution_count": 13,
   "id": "184892b2",
   "metadata": {},
   "outputs": [
    {
     "data": {
      "text/plain": [
       "90     0.0\n",
       "115    0.0\n",
       "124    0.0\n",
       "125    0.0\n",
       "268    0.0\n",
       "269    0.0\n",
       "280    0.0\n",
       "Name: Households, dtype: Float64"
      ]
     },
     "execution_count": 13,
     "metadata": {},
     "output_type": "execute_result"
    }
   ],
   "source": [
    "# They are the tracts with no households!\n",
    "computer_SD[computer_SD['Percent_']==0]['Households']\n",
    "# Therefore we start from 70% when drawing computer ownerships"
   ]
  },
  {
   "cell_type": "markdown",
   "id": "b9fb7e2c",
   "metadata": {},
   "source": [
    "Unemployment Rate in the census tract"
   ]
  },
  {
   "cell_type": "code",
   "execution_count": 14,
   "id": "0f02036c",
   "metadata": {},
   "outputs": [
    {
     "data": {
      "text/plain": [
       "count       736.0\n",
       "mean     6.255842\n",
       "std      3.900695\n",
       "min           0.0\n",
       "25%           3.5\n",
       "50%           5.6\n",
       "75%           8.2\n",
       "max          31.6\n",
       "Name: unemplymt, dtype: Float64"
      ]
     },
     "execution_count": 14,
     "metadata": {},
     "output_type": "execute_result"
    }
   ],
   "source": [
    "unempl_SD['unemplymt'].describe()"
   ]
  },
  {
   "cell_type": "markdown",
   "id": "82d15d70",
   "metadata": {},
   "source": [
    "### [9.](#Table-of-Contents) Analysis"
   ]
  },
  {
   "cell_type": "code",
   "execution_count": 168,
   "id": "0c24ccb4",
   "metadata": {},
   "outputs": [],
   "source": [
    "# create a base map\n",
    "map_comp_unempl = gis.map('San Diego, CA')"
   ]
  },
  {
   "cell_type": "code",
   "execution_count": 169,
   "id": "31407c26",
   "metadata": {},
   "outputs": [
    {
     "data": {
      "application/vnd.jupyter.widget-view+json": {
       "model_id": "944e05e84cc742c0803560c7bca291bd",
       "version_major": 2,
       "version_minor": 0
      },
      "text/plain": [
       "MapView(layout=Layout(height='400px', width='100%'), legend=True)"
      ]
     },
     "metadata": {},
     "output_type": "display_data"
    },
    {
     "data": {
      "text/html": [
       "<div class=\"map-static-img-preview-6eb9fe57-fa91-411d-8bec-5a8ff8a1d19c\"><img src=\"\"></img></div>"
      ],
      "text/plain": [
       "<IPython.core.display.HTML object>"
      ]
     },
     "metadata": {},
     "output_type": "display_data"
    },
    {
     "data": {
      "text/html": [
       "<div class=\"map-html-embed-preview-6eb9fe57-fa91-411d-8bec-5a8ff8a1d19c\"></div>"
      ],
      "text/plain": [
       "<IPython.core.display.HTML object>"
      ]
     },
     "metadata": {},
     "output_type": "display_data"
    }
   ],
   "source": [
    "# drawing computer ownership\n",
    "computer_SD.spatial.plot(\n",
    "    map_widget=map_comp_unempl,\n",
    "    renderer_type='c',\n",
    "    col='Percent_',\n",
    "    class_count=10,\n",
    "    cmap='Blues',\n",
    "    line_width=1)\n",
    "\n",
    "# drawing unemployment\n",
    "map_comp_unempl.add_layer(unempl_SD_content.layers[0], \n",
    "                    {\"renderer\":\"ClassedSizeRenderer\",\n",
    "                    \"field_name\":\"unemplymt\",\n",
    "                    \"opacity\":0.75})\n",
    "\n",
    "map_comp_unempl.legend = True\n",
    "map_comp_unempl"
   ]
  },
  {
   "cell_type": "code",
   "execution_count": 30,
   "id": "d31d4243",
   "metadata": {},
   "outputs": [],
   "source": [
    "# create a base map\n",
    "map_itnt_unempl = gis.map('USA')"
   ]
  },
  {
   "cell_type": "code",
   "execution_count": null,
   "id": "3aa3a442",
   "metadata": {},
   "outputs": [],
   "source": [
    "# drawing computer ownership\n",
    "internet_county.spatial.plot(\n",
    "    map_widget=map_itnt_unempl,\n",
    "    renderer_type='c',\n",
    "    col='B28002_calc_pctNoIntE',\n",
    "#     class_count=5,\n",
    "    cmap='Blues',\n",
    "    line_width=1)\n",
    "\n",
    "# drawing unemployment\n",
    "map_itnt_unempl.add_layer(unempl_county.layers[0], \n",
    "                    {\"renderer\":\"ClassedSizeRenderer\",\n",
    "                    \"field_name\":\"B23025_calc_pctUnempE\",\n",
    "                    \"opacity\":0.75})\n",
    "\n",
    "map_itnt_unempl.legend = True\n",
    "map_itnt_unempl"
   ]
  },
  {
   "cell_type": "markdown",
   "id": "090f1a97",
   "metadata": {},
   "source": [
    "### [10.](#Table-of-Contents) Summary of products and results"
   ]
  },
  {
   "cell_type": "markdown",
   "id": "7ab53c24",
   "metadata": {},
   "source": [
    "Computer ownership(tract) vs unemployment"
   ]
  },
  {
   "cell_type": "code",
   "execution_count": 189,
   "id": "dfa8c144",
   "metadata": {},
   "outputs": [],
   "source": [
    "# unify the GEOID for dataset joining\n",
    "join_left = computer_SD[['GEOID','Percent_']]\n",
    "join_left['GEOID'] = join_left['GEOID'].apply(lambda x: x[-10:]).astype(int)\n",
    "join_right = unempl_SD[['GEOID','unemplymt']]\n",
    "join_right['GEOID'] = join_right['GEOID'].astype(int)\n",
    "\n",
    "# join the two sides\n",
    "join_left = join_left.set_index('GEOID')\n",
    "join_right = join_right.set_index('GEOID')\n",
    "joined_df = join_left.join(join_right).reset_index()"
   ]
  },
  {
   "cell_type": "code",
   "execution_count": 200,
   "id": "ec8f8d0c",
   "metadata": {},
   "outputs": [],
   "source": [
    "# assign dependent variable X and independent variable y\n",
    "X = joined_df[['Percent_']]\n",
    "y = joined_df[['unemplymt']]\n",
    "# splitting the dataset into Train and Test\n",
    "X_train, X_test, y_train, y_test = train_test_split(X, y, test_size=0.2, random_state=42)\n",
    "# create the model and fit\n",
    "reg = LinearRegression()\n",
    "reg.fit(X_train, y_train)\n",
    "y_pred = reg.predict(X_test)"
   ]
  },
  {
   "cell_type": "code",
   "execution_count": 201,
   "id": "16914be9",
   "metadata": {},
   "outputs": [
    {
     "data": {
      "text/plain": [
       "(array([[6.24051559],\n",
       "        [6.10574596],\n",
       "        [6.24051559],\n",
       "        [6.24051559],\n",
       "        [6.10574596],\n",
       "        [6.10574596],\n",
       "        [6.24051559],\n",
       "        [6.10574596],\n",
       "        [6.10574596],\n",
       "        [6.10574596]]),\n",
       "      unemplymt\n",
       " 669        1.8\n",
       " 33         6.7\n",
       " 549        5.6\n",
       " 199        3.2\n",
       " 264        0.7\n",
       " 583        2.7\n",
       " 39         3.9\n",
       " 554        3.3\n",
       " 585        4.5\n",
       " 609        5.7)"
      ]
     },
     "execution_count": 201,
     "metadata": {},
     "output_type": "execute_result"
    }
   ],
   "source": [
    "reg.predict(X_test)[:10], y_test[:10]"
   ]
  },
  {
   "cell_type": "code",
   "execution_count": 202,
   "id": "d2821e26",
   "metadata": {},
   "outputs": [
    {
     "data": {
      "text/plain": [
       "17.415821053770813"
      ]
     },
     "execution_count": 202,
     "metadata": {},
     "output_type": "execute_result"
    }
   ],
   "source": [
    "mean_squared_error(y_pred, y_test)"
   ]
  },
  {
   "cell_type": "code",
   "execution_count": 215,
   "id": "7d75859e",
   "metadata": {},
   "outputs": [
    {
     "data": {
      "text/plain": [
       "array([[0.34504165]])"
      ]
     },
     "execution_count": 215,
     "metadata": {},
     "output_type": "execute_result"
    }
   ],
   "source": [
    "reg.fit(X, y)\n",
    "reg.coef_"
   ]
  },
  {
   "cell_type": "markdown",
   "id": "2e54ae6a",
   "metadata": {},
   "source": [
    "Internet access vs unemployment (county)"
   ]
  },
  {
   "cell_type": "code",
   "execution_count": 27,
   "id": "d986578c",
   "metadata": {},
   "outputs": [],
   "source": [
    "# assign dependent variable X and independent variable y\n",
    "X = internet_county[['B28002_calc_pctNoIntE']]\n",
    "y = unempl_county[['B23025_calc_pctUnempE']]\n",
    "# splitting the dataset into Train and Test\n",
    "X_train, X_test, y_train, y_test = train_test_split(X, y, test_size=0.2, random_state=42)\n",
    "# create the model and fit\n",
    "reg = LinearRegression()\n",
    "reg.fit(X_train, y_train)\n",
    "y_pred = reg.predict(X_test)"
   ]
  },
  {
   "cell_type": "code",
   "execution_count": 28,
   "id": "c1a4c34d",
   "metadata": {},
   "outputs": [
    {
     "data": {
      "text/plain": [
       "(array([[5.31993941],\n",
       "        [5.91887394],\n",
       "        [4.73461703],\n",
       "        [4.70739273],\n",
       "        [4.28541613],\n",
       "        [5.55134593],\n",
       "        [4.21735539],\n",
       "        [3.80899093],\n",
       "        [4.73461703],\n",
       "        [4.78906562]]),\n",
       "       B23025_calc_pctUnempE\n",
       " 299                     7.3\n",
       " 501                     7.2\n",
       " 631                     5.2\n",
       " 2098                    4.1\n",
       " 1377                    4.4\n",
       " 1709                    1.3\n",
       " 564                     2.8\n",
       " 1323                    3.7\n",
       " 3060                    3.4\n",
       " 438                     2.4)"
      ]
     },
     "execution_count": 28,
     "metadata": {},
     "output_type": "execute_result"
    }
   ],
   "source": [
    "reg.predict(X_test)[:10], y_test[:10]"
   ]
  },
  {
   "cell_type": "code",
   "execution_count": 29,
   "id": "b74e20b4",
   "metadata": {},
   "outputs": [
    {
     "data": {
      "text/plain": [
       "array([[0.13851427]])"
      ]
     },
     "execution_count": 29,
     "metadata": {},
     "output_type": "execute_result"
    }
   ],
   "source": [
    "reg.fit(X, y)\n",
    "reg.coef_"
   ]
  },
  {
   "cell_type": "markdown",
   "id": "324d6b80",
   "metadata": {},
   "source": [
    "### [11.](#Table-of-Contents) Discussion "
   ]
  },
  {
   "cell_type": "markdown",
   "id": "8c3ddd9a",
   "metadata": {},
   "source": [
    "### [12.](#Table-of-Contents) Conclusions and future work"
   ]
  },
  {
   "cell_type": "markdown",
   "id": "03e9d807",
   "metadata": {},
   "source": [
    "##### Citations \n",
    "- https://www.latimes.com/california/story/2023-02-07/downtown-homeless-population-reaches-another-high\n",
    "- https://coronadotimes.com/news/2023/08/29/is-addiction-driving-the-homeless-epidemic-in-san-diego-2/#:~:text=Lack%20of%20Income&text=This%20report%20showed%20that%20six,desperately%20to%20make%20ends%20meet."
   ]
  }
 ],
 "metadata": {
  "kernelspec": {
   "display_name": "Python 3 (ipykernel)",
   "language": "python",
   "name": "python3"
  },
  "language_info": {
   "codemirror_mode": {
    "name": "ipython",
    "version": 3
   },
   "file_extension": ".py",
   "mimetype": "text/x-python",
   "name": "python",
   "nbconvert_exporter": "python",
   "pygments_lexer": "ipython3",
   "version": "3.9.5"
  }
 },
 "nbformat": 4,
 "nbformat_minor": 5
}
