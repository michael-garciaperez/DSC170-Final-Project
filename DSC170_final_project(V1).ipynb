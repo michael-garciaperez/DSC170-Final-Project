{
 "cells": [
  {
   "cell_type": "markdown",
   "id": "e3271e3d",
   "metadata": {},
   "source": [
    "### Table of Contents\n",
    "To return to the table of contents, click on the number at any major section heading."
   ]
  },
  {
   "cell_type": "markdown",
   "id": "2adaa244",
   "metadata": {},
   "source": [
    "[1. Project Title](#1.-Project-Title)\n",
    "\n",
    "[2. Team members](#2.-Team-members)\n",
    "\n",
    "[3. Question(s) you addressed, why it is important](#3.-Question(s)-you-addressed,-why-it-is-important)\n",
    "\n",
    "[4. Background and literature](#4.-Background-and-literature)\n",
    "\n",
    "[5. Python packages you used and why](#5.-Python-packages-you-used-and-why)\n",
    "\n",
    "[6. Data sources](#6.-Data-sources)\n",
    "\n",
    "[7. Data cleaning you have done](#7.-Data-cleaning-you-have-done)\n",
    "\n",
    "[8. Descriptive statistics for the data](#8.-Descriptive-statistics-for-the-data)\n",
    "\n",
    "[9. Analysis](#9.-Analysis)\n",
    "\n",
    "[10. Summary of products and results](#10.-Summary-of-products-and-results)\n",
    "\n",
    "[11. Discussion](#11.-Discussion)\n",
    "\n",
    "[12. Conclusions and future work](#12.-Conclusions-and-future-work)"
   ]
  },
  {
   "cell_type": "markdown",
   "id": "9e7f6569",
   "metadata": {},
   "source": [
    "### [1.](#Table-of-Contents) Project Title"
   ]
  },
  {
   "cell_type": "markdown",
   "id": "839f5f52",
   "metadata": {},
   "source": [
    "Exploring the Impact of Computer Ownership on Unemployment in San Diego, CA"
   ]
  },
  {
   "cell_type": "markdown",
   "id": "c1a64b39",
   "metadata": {},
   "source": [
    "### [2.](#Table-of-Contents) Team members"
   ]
  },
  {
   "cell_type": "markdown",
   "id": "9043f3b0",
   "metadata": {},
   "source": [
    "By: Michael Garcia-Perez (A16366187) & Haoyu Fu (A16633278)"
   ]
  },
  {
   "cell_type": "markdown",
   "id": "a7a544f9",
   "metadata": {},
   "source": [
    "### [3.](#Table-of-Contents) Question(s) you addressed, why it is important"
   ]
  },
  {
   "cell_type": "markdown",
   "id": "c4bb32a1",
   "metadata": {},
   "source": [
    "We aim to delve deeper into the relationship between computer ownership and unemployment in San Diego, California, while also considering additional factors if time allows. The primary audience for our research includes political officials and policymakers in San Diego. This focus is particularly relevant because if a significant relationship exists between computer ownership and unemployment, it suggests that enhancing citizens' access to such equipment could contribute to boosting the employment rate.\n",
    "\n",
    "San Diego, CA, is a thriving city; however, homelessness has become a growing concern among residents, evident in headlines such as \"Downtown San Diego homeless population reaches record high for the sixth month in a row\" (Warth, LA Times). Homelessness stems from various causes, including a lack of affordable housing, poverty, and unemployment. Despite common misconceptions associating homelessness with mental health issues, a comprehensive survey revealed that poverty is the primary culprit (The Coronado Times). The cost of living in San Diego is a driving factor, but so is \"inadequate employment,\" such as the \"inability to find gainful employment...\" (The Coronado Times). Hence, homelessness can be linked to unemployment, prompting us to explore additional relationships, including those involving computer ownership.\n",
    "\n",
    "We believe that computer ownership could significantly impact unemployment in San Diego. Initially unaware of the issue's significance, we were surprised to discover a dataset on computer ownership before starting our research. Our analysis also aims to uncover information related to the number of broadband providers per San Diego census tract, Federal Broadband Threshold compliance, income, ethnic populations, and more, if time permits, utilizing broadband data from SANDAG and visualizing through San Diego census tracts.\n",
    "\n",
    "Our expectations include identifying a strong relationship between computer ownership and unemployment rates in different San Diego census tracts. We anticipate that individuals without access to computers may face challenges in job applications, potentially leading to higher unemployment rates. Ultimately, we hope our findings offer a new perspective on the factors influencing unemployment in certain San Diego areas and provide insights for policymakers on utilizing tax money to fund initiatives promoting increased computer ownership, should it prove to positively impact the employment rate."
   ]
  },
  {
   "cell_type": "markdown",
   "id": "5a652f94",
   "metadata": {},
   "source": [
    "### [4.](#Table-of-Contents) Background and literature"
   ]
  },
  {
   "cell_type": "markdown",
   "id": "3dd1be4c",
   "metadata": {},
   "source": [
    "1. https://www.utwente.nl/en/bms/vandijk/publications/digital_divide_impact_access.pdf\n",
    "2. https://www.sciencedirect.com/science/article/pii/S0040162521007903?casa_token=8X2wFMUI1bsAAAAA:bgo7kmgL2LXDxj0fmjMEv0ZoSaLLMTQuY3WEPV1n9nHhRgdTpY7_0tUvDW77bmxlYUH9CtIP1w\n",
    "3. https://files.eric.ed.gov/fulltext/ED463391.pdf\n",
    "4. https://www.sciencedirect.com/science/article/pii/S026427512031252X?casa_token=_jvi54cy2FcAAAAA:Cmou9AI7qMpBBHCH1bAjAVWWQFe5QBN-sZGBU9tvg8mD8uGtYDfPflMQ6ILBVFjODOT8IW-PFA\n",
    "\n",
    "These references play a crucial role in providing essential background literature necessary for comprehending our topic, which involves investigating the influence of computer ownership on unemployment in San Diego. The articles explore subjects such as the digital divide and broadband access. The digital divide represents an inequality where more privileged individuals have access to digital resources like the internet, along with the skills and hardware necessary for utilizing these resources, such as laptops or phones. This reference has been instrumental in refining our focus, especially since we concentrate on computer ownership and its impact on unemployment.\n",
    "\n",
    "As highlighted in these articles, the digital divide significantly affects employment. Without computers or internet access, the process of applying for jobs or acquiring new skills becomes exceedingly challenging. Employment relies heavily on these resources, as job seekers need to submit applications, connect with recruiters, participate in interviews, respond to crucial emails, learn about job positions, and more. While libraries can help mitigate the impact of the digital divide, managing these tasks is still more challenging compared to having access to a computer and reliable internet at home. Finding a job is inherently challenging due to the competitive job market and economy, but the digital divide has evidently exacerbated these difficulties, as outlined in these articles.\n",
    "\n",
    "Another pivotal aspect from these articles that significantly influences our research is understanding broadband access. Broadband, as described in the aforementioned articles, determines your access to reliable internet. To achieve high-speed internet connections, your broadband access must facilitate the transmission of large amounts of data at fast speeds, ultimately affecting your ability to use your laptop for job searching and employment-related activities. We assert that computer ownership and broadband access are interconnected, as a computer without internet access is not useful for employment-seeking purposes. Furthermore, different census tracts in San Diego exhibit varying qualities and speeds of broadband internet, leading us to narrow our focus on a specific hypothesis. We aim to explore how these variations impact different tracts in San Diego and their effects on unemployment."
   ]
  },
  {
   "cell_type": "markdown",
   "id": "979139dd",
   "metadata": {},
   "source": [
    "### [5.](#Table-of-Contents) Python packages you used and why"
   ]
  },
  {
   "cell_type": "markdown",
   "id": "b1885552",
   "metadata": {},
   "source": [
    "Will do once we finish implementation..."
   ]
  },
  {
   "cell_type": "code",
   "execution_count": 2,
   "id": "c8017f5d",
   "metadata": {},
   "outputs": [],
   "source": [
    "# Importing necessary packages\n",
    "import pandas as pd\n",
    "import geopandas as gpd"
   ]
  },
  {
   "cell_type": "markdown",
   "id": "ad0eeb8a",
   "metadata": {},
   "source": [
    "### [6.](#Table-of-Contents) Data sources"
   ]
  },
  {
   "cell_type": "markdown",
   "id": "e49d254b",
   "metadata": {},
   "source": [
    "1.  https://opendata.sandag.org/Sustainable-Development-Goals/SDG-Indicator-5-b-1-Data-Computer-Ownership/tsaq-axm2/abo\n",
    "\n",
    "    - This URL provides data regarding computer ownership in San Diego. Specifically, the data includes information on the number of households with one or more types of computing devices, such as desktops, laptops, smartphones, tablets, or other portable wireless computers, and other computer types. There are no concerns related to data quality or constraints. The geographic granularity of this data is census tracts, making it ideal for use with the other data source we have identified. Our choice of sources has evolved since the proposal phase, as we considered whether to join/merge data by census tracts instead of zip codes. We decided that analyzing census tracts would yield more comprehensive results, given the greater number of census tracts in San Diego compared to zip codes. Although we cannot use the zip code data, there is still ample information available for analysis from this URL.\n",
    "    \n",
    "    \n",
    "2. https://opendata.sandag.org/stories/s/Digital-Divide-2-0-Broadband-Access-and-More/9vde-3c89/\n",
    "\n",
    "    - This URL contains data about broadband providers per census block code, including bandwidth performance/accessibility and geographic information. Specifically, this URL provides three different dataframes that we can utilize in our analysis. We aim to convert the census block code to census tracts and use the data accordingly. While there might be a need for significant data cleaning, there are no concerns related to data quality or constraints. Once again, our choices of sources have evolved, and we have decided to focus solely on data associated with census tracts instead of zip codes.\n",
    "    \n",
    "    \n",
    "3. We will be getting information about unemployment via Geoenrichment from ArcGIS"
   ]
  },
  {
   "cell_type": "code",
   "execution_count": 3,
   "id": "cefba4d2",
   "metadata": {},
   "outputs": [],
   "source": [
    "# Reading all CSV files into GeoDataFrames\n",
    "employment_centers = gpd.read_file('Employment_Centers_V2_Landing_Page_Data_20240226.csv') # No census tracts\n",
    "computer_ownership = gpd.read_file('SDG_Indicator_5.b.1_Data_-_Computer_Ownership_20240226.csv') # Yes census tracts\n",
    "employee_resident_survey = gpd.read_file('Telework_-_SANDAG_Employee_Resident_Study_2023_20240226.csv') # No census tracts\n",
    "unemployment = gpd.read_file('Unemployment_20240226.csv') # No census tracts\n",
    "business_tax_certificates = gpd.read_file('sd_businesses_active_datasd.csv') # No census tracts\n",
    " \n",
    "broadband1 = gpd.read_file('Digital_Divide_-_Broadband_Cost_with_Coastline_20240307.csv') # No census tracts\n",
    "broadband2 = gpd.read_file('Digital_Divide_-_Broadband_Providers_Meeting_Federal_Threshold_20240307.csv') # Yes by census block\n",
    "broadband3 = gpd.read_file('Digital_Divide_-_Fixed_Broadband_Meets_Federal_Threshold_20240307.csv') # Yes by census block\n",
    "broadband4 = gpd.read_file('Digital_Divide_-_Household_Broadband_Adoption__Low-Income_Households_20240307.csv') # No census tracts\n",
    "broadband5 = gpd.read_file('Digital_Divide_-_Household_Broadband_Adoption__Minority_Populations_20240307.csv') # No census tracts\n",
    "broadband6 = gpd.read_file('Digital_Divide_2.0_Scoring_Data_20240307.csv') # Yes by tract and geoid\n",
    "broadband7 = gpd.read_file('Digital_Divide_-_Household_Broadband_Adoption__Seniors_20240308.csv') # No census tracts\n",
    "\n",
    "county_borders = gpd.read_file('san_diego_boundary_datasd.shx') # might not need"
   ]
  },
  {
   "cell_type": "code",
   "execution_count": 4,
   "id": "b661131d",
   "metadata": {},
   "outputs": [],
   "source": [
    "# geoenrichmnent is like getting unemployment from ArcGIS"
   ]
  },
  {
   "cell_type": "markdown",
   "id": "80a4dc87",
   "metadata": {},
   "source": [
    "### [7.](#Table-of-Contents) Data cleaning you have done"
   ]
  },
  {
   "cell_type": "code",
   "execution_count": 8,
   "id": "1f318022",
   "metadata": {},
   "outputs": [],
   "source": [
    "employment_centers = employment_centers.drop(columns=['geometry'])\n",
    "computer_ownership = computer_ownership.drop(columns=['geometry'])\n",
    "employee_resident_survey = employee_resident_survey.drop(columns=['geometry'])\n",
    "unemployment = unemployment.drop(columns=['geometry'])\n",
    "business_tax_certificates = business_tax_certificates.drop(columns=['geometry'])"
   ]
  },
  {
   "cell_type": "markdown",
   "id": "c5958c9e",
   "metadata": {},
   "source": [
    "### [8.](#Table-of-Contents) Descriptive statistics for the data"
   ]
  },
  {
   "cell_type": "markdown",
   "id": "82d15d70",
   "metadata": {},
   "source": [
    "### [9.](#Table-of-Contents) Analysis"
   ]
  },
  {
   "cell_type": "markdown",
   "id": "090f1a97",
   "metadata": {},
   "source": [
    "### [10.](#Table-of-Contents) Summary of products and results"
   ]
  },
  {
   "cell_type": "markdown",
   "id": "324d6b80",
   "metadata": {},
   "source": [
    "### [11.](#Table-of-Contents) Discussion "
   ]
  },
  {
   "cell_type": "markdown",
   "id": "8c3ddd9a",
   "metadata": {},
   "source": [
    "### [12.](#Table-of-Contents) Conclusions and future work"
   ]
  },
  {
   "cell_type": "markdown",
   "id": "03e9d807",
   "metadata": {},
   "source": [
    "##### Citations \n",
    "- https://www.latimes.com/california/story/2023-02-07/downtown-homeless-population-reaches-another-high\n",
    "- https://coronadotimes.com/news/2023/08/29/is-addiction-driving-the-homeless-epidemic-in-san-diego-2/#:~:text=Lack%20of%20Income&text=This%20report%20showed%20that%20six,desperately%20to%20make%20ends%20meet."
   ]
  }
 ],
 "metadata": {
  "kernelspec": {
   "display_name": "Python 3 (ipykernel)",
   "language": "python",
   "name": "python3"
  },
  "language_info": {
   "codemirror_mode": {
    "name": "ipython",
    "version": 3
   },
   "file_extension": ".py",
   "mimetype": "text/x-python",
   "name": "python",
   "nbconvert_exporter": "python",
   "pygments_lexer": "ipython3",
   "version": "3.9.5"
  }
 },
 "nbformat": 4,
 "nbformat_minor": 5
}
